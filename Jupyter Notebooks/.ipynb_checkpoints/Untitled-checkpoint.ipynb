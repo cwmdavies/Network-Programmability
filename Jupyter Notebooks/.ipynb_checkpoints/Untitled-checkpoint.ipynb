{
 "cells": [
  {
   "cell_type": "code",
   "execution_count": 4,
   "id": "e3f76e83-3ec0-4bc9-a393-e4938d41d496",
   "metadata": {},
   "outputs": [],
   "source": [
    "import paramiko\n",
    "import textfsm\n",
    "from getpass import getpass\n",
    "from openpyxl import load_workbook, Workbook\n",
    "import ipaddress"
   ]
  },
  {
   "cell_type": "code",
   "execution_count": 8,
   "id": "f9c52ee7-f231-426a-8352-a5ceb2070726",
   "metadata": {},
   "outputs": [],
   "source": [
    "IPAddr = \n",
    "username = \n",
    "password = \n",
    "jump_server_address =    # The internal ip Address for the Jump server\n",
    "local_IP_address =   # ip Address of the machine you are connecting from\n",
    "IP_LIST = []\n",
    "collection_of_results = []\n",
    "filename = \"CDP_Neighbors_Detail.xlsx\"\n",
    "index = 2"
   ]
  },
  {
   "cell_type": "code",
   "execution_count": 9,
   "id": "d9ccbfa1-4b52-4793-b9f0-f88b2157c20e",
   "metadata": {},
   "outputs": [],
   "source": [
    "def ip_check(ip):\n",
    "    try:\n",
    "        ipaddress.ip_address(ip)\n",
    "        return True\n",
    "    except ValueError:\n",
    "        return False\n",
    "\n",
    "\n",
    "# noinspection PyBroadException,PyTypeChecker\n",
    "def jump_session(ip):\n",
    "    if not ip_check(ip):\n",
    "        print(f\"open_session function error: \"\n",
    "              f\"ip Address {ip} is not a valid Address. Please check and restart the script!\", )\n",
    "        return None, None, False\n",
    "    try:\n",
    "        jump_box = paramiko.SSHClient()\n",
    "        jump_box.set_missing_host_key_policy(paramiko.AutoAddPolicy())\n",
    "        jump_box.connect(jump_server_address, username=username, password=password)\n",
    "        jump_box_transport = jump_box.get_transport()\n",
    "        src_address = (local_IP_address, 22)\n",
    "        destination_address = (ip, 22)\n",
    "        jump_box_channel = jump_box_transport.open_channel(\"direct-tcpip\", destination_address, src_address)\n",
    "        target = paramiko.SSHClient()\n",
    "        target.set_missing_host_key_policy(paramiko.AutoAddPolicy())\n",
    "        target.connect(destination_address, username=username, password=password, sock=jump_box_channel)\n",
    "    except Exception as err:\n",
    "        print(f\"Unable to connect to IP Address: {ip}\")\n",
    "        return None, None, False\n",
    "    return target, jump_box, True\n",
    "\n",
    "\n",
    "def get_cdp_details(ip):\n",
    "    hostname = get_hostname(ip)\n",
    "    ssh, jump_box, connection = jump_session(ip)\n",
    "    if not connection:\n",
    "        return None\n",
    "    _, stdout, _ = ssh.exec_command(\"show cdp neighbors detail\")\n",
    "    stdout = stdout.read()\n",
    "    stdout = stdout.decode(\"utf-8\")\n",
    "    with open(\"TEXTFSM_TEMPLATES/cdp_details.txt\") as f:\n",
    "        re_table = textfsm.TextFSM(f)\n",
    "        result = re_table.ParseText(stdout)\n",
    "    result = [dict(zip(re_table.header, entry)) for entry in result]\n",
    "    for entry in result:\n",
    "        entry['LOCAL_HOST'] = hostname\n",
    "        entry['LOCAL_IP'] = ip\n",
    "        collection_of_results.append(entry)\n",
    "        \n",
    "        if entry[\"REMOTE_IP\"] not in IP_LIST:\n",
    "            if 'Switch' in entry['CAPABILITIES']:            \n",
    "                IP_LIST.append(entry[\"REMOTE_IP\"])\n",
    "    ssh.close()\n",
    "    jump_box.close()\n",
    "\n",
    "\n",
    "def get_hostname(ip):\n",
    "    ssh, jump_box, connection = jump_session(ip)\n",
    "    if not connection:\n",
    "        return None\n",
    "    _, stdout, _ = ssh.exec_command(\"show run | inc hostname\")\n",
    "    stdout = stdout.read()\n",
    "    stdout = stdout.decode(\"utf-8\")\n",
    "    try:\n",
    "        with open(\"TEXTFSM_TEMPLATES/hostname.txt\") as f:\n",
    "            re_table = textfsm.TextFSM(f)\n",
    "            result = re_table.ParseText(stdout)\n",
    "            hostname = result[0][0]\n",
    "    except:\n",
    "        hostname = \"Not Found\"\n",
    "    ssh.close()\n",
    "    jump_box.close()\n",
    "    return hostname\n",
    "\n",
    "\n",
    "def to_excel(cdp_details):\n",
    "    global index\n",
    "    workbook = Workbook()\n",
    "    workbook.create_sheet(\"CDP Neighbors Detail\")\n",
    "    del workbook[\"Sheet\"]\n",
    "    workbook.save(filename=filename)\n",
    "    workbook = load_workbook(filename=filename)\n",
    "    ws = workbook[\"CDP Neighbors Detail\"]\n",
    "    ws[\"A1\"] = \"LOCAL_HOST\"\n",
    "    ws[\"B1\"] = \"LOCAL_PORT\"\n",
    "    ws[\"C1\"] = \"LOCAL_IP\"\n",
    "    ws[\"D1\"] = \"REMOTE_HOST\"\n",
    "    ws[\"E1\"] = \"REMOTE_PORT\"\n",
    "    ws[\"F1\"] = \"REMOTE_IP\"\n",
    "    ws[\"G1\"] = \"PLATFORM\"\n",
    "    ws[\"H1\"] = \"SOFTWARE_VERSION\"\n",
    "    ws[\"I1\"] = \"CAPABILITIES\"\n",
    "    ws.column_dimensions['A'].width = \"25\"\n",
    "    ws.column_dimensions['B'].width = \"25\"\n",
    "    ws.column_dimensions['C'].width = \"25\"\n",
    "    ws.column_dimensions['D'].width = \"45\"\n",
    "    ws.column_dimensions['E'].width = \"25\"\n",
    "    ws.column_dimensions['F'].width = \"25\"\n",
    "    ws.column_dimensions['G'].width = \"25\"\n",
    "    ws.column_dimensions['H'].width = \"120\"\n",
    "    ws.column_dimensions['I'].width = \"45\"\n",
    "    workbook.save(filename=filename)\n",
    "    try:\n",
    "        for entry in cdp_details:\n",
    "            ws[f\"A{index}\"] = entry[\"LOCAL_HOST\"]\n",
    "            ws[f\"B{index}\"] = entry[\"LOCAL_PORT\"]\n",
    "            ws[f\"C{index}\"] = entry[\"LOCAL_IP\"]\n",
    "            ws[f\"D{index}\"] = entry[\"REMOTE_HOST\"]\n",
    "            ws[f\"E{index}\"] = entry[\"REMOTE_PORT\"]\n",
    "            ws[f\"F{index}\"] = entry[\"REMOTE_IP\"]\n",
    "            ws[f\"G{index}\"] = entry[\"PLATFORM\"]\n",
    "            ws[f\"H{index}\"] = entry[\"SOFTWARE_VERSION\"]\n",
    "            ws[f\"I{index}\"] = entry[\"CAPABILITIES\"]\n",
    "            workbook.save(filename=filename)\n",
    "            index += 1\n",
    "\n",
    "    except Exception as err:\n",
    "        print(\"An Exception Occurred\")\n",
    "        print({err})\n",
    "\n",
    "    workbook.save(filename=filename)\n",
    "\n",
    "\n",
    "def main():\n",
    "    IPLIST.append(IPAddr)\n",
    "\n",
    "    i = 0\n",
    "    while i < len(IP_LIST):\n",
    "        limit = i + min(30, (len(IPLIST) - i))\n",
    "        ip_addresses = IPLIST[i:limit]\n",
    "\n",
    "        for IP in ip_addresses:\n",
    "            get_cdp_details(IP)\n",
    "\n",
    "        i = limit\n",
    "    to_excel(collection_of_results)"
   ]
  },
  {
   "cell_type": "code",
   "execution_count": 7,
   "id": "3f816706-93cd-42fe-9202-03e59c855e0a",
   "metadata": {},
   "outputs": [
    {
     "name": "stdout",
     "output_type": "stream",
     "text": [
      "Unable to connect to IP Address: 10.34.254.33\n"
     ]
    },
    {
     "name": "stderr",
     "output_type": "stream",
     "text": [
      "Secsh channel 0 open FAILED: No route to host: Connect failed\n"
     ]
    },
    {
     "name": "stdout",
     "output_type": "stream",
     "text": [
      "Unable to connect to IP Address: 10.250.8.59\n"
     ]
    },
    {
     "name": "stderr",
     "output_type": "stream",
     "text": [
      "Secsh channel 0 open FAILED: No route to host: Connect failed\n"
     ]
    },
    {
     "name": "stdout",
     "output_type": "stream",
     "text": [
      "Unable to connect to IP Address: 10.250.8.59\n"
     ]
    },
    {
     "name": "stderr",
     "output_type": "stream",
     "text": [
      "Secsh channel 0 open FAILED: Connection timed out: Connect failed\n"
     ]
    },
    {
     "name": "stdout",
     "output_type": "stream",
     "text": [
      "Unable to connect to IP Address: 10.250.7.10\n"
     ]
    },
    {
     "name": "stderr",
     "output_type": "stream",
     "text": [
      "Secsh channel 0 open FAILED: Connection timed out: Connect failed\n"
     ]
    },
    {
     "name": "stdout",
     "output_type": "stream",
     "text": [
      "Unable to connect to IP Address: 10.250.7.10\n"
     ]
    },
    {
     "name": "stderr",
     "output_type": "stream",
     "text": [
      "Secsh channel 0 open FAILED: No route to host: Connect failed\n"
     ]
    },
    {
     "name": "stdout",
     "output_type": "stream",
     "text": [
      "Unable to connect to IP Address: 10.250.8.58\n"
     ]
    },
    {
     "name": "stderr",
     "output_type": "stream",
     "text": [
      "Secsh channel 0 open FAILED: No route to host: Connect failed\n"
     ]
    },
    {
     "name": "stdout",
     "output_type": "stream",
     "text": [
      "Unable to connect to IP Address: 10.250.8.58\n"
     ]
    }
   ],
   "source": [
    "main()"
   ]
  }
 ],
 "metadata": {
  "kernelspec": {
   "display_name": "Python 3",
   "language": "python",
   "name": "python3"
  },
  "language_info": {
   "codemirror_mode": {
    "name": "ipython",
    "version": 3
   },
   "file_extension": ".py",
   "mimetype": "text/x-python",
   "name": "python",
   "nbconvert_exporter": "python",
   "pygments_lexer": "ipython3",
   "version": "3.9.5"
  }
 },
 "nbformat": 4,
 "nbformat_minor": 5
}
