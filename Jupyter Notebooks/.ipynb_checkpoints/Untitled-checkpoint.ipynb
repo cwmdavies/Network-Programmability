{
 "cells": [
  {
   "cell_type": "code",
   "execution_count": 1,
   "id": "2209ea40-0f7f-47cf-a2cb-e68ec68d91d3",
   "metadata": {},
   "outputs": [],
   "source": [
    "import paramiko\n",
    "import textfsm\n",
    "from getpass import getpass\n",
    "from openpyxl import load_workbook, Workbook\n",
    "import ipaddress"
   ]
  },
  {
   "cell_type": "code",
   "execution_count": 2,
   "id": "9418368a-c031-4e00-b21c-25eca5351f1b",
   "metadata": {},
   "outputs": [],
   "source": [
    "IPAddr = '172.106.32.97'\n",
    "username = 'adm.davies'\n",
    "password = '!\"Lepsodizle0!\"'\n",
    "jump_server_address = '10.251.6.31'\n",
    "local_IP_address = '127.0.0.1'\n",
    "IPLIST = []\n",
    "collection_of_results = []\n",
    "filename = \"CDP_Neighbors_Detail.xlsx\"\n",
    "index = 2"
   ]
  },
  {
   "cell_type": "code",
   "execution_count": 3,
   "id": "7204f4cd-5ecc-4571-af6f-f1b2bc7457a0",
   "metadata": {},
   "outputs": [],
   "source": [
    "def ip_check(ip):\n",
    "    try:\n",
    "        ipaddress.ip_address(ip)\n",
    "        return True\n",
    "    except ValueError:\n",
    "        return False\n",
    "\n",
    "\n",
    "def jump_session(ip):\n",
    "    if not ip_check(ip):\n",
    "        print(f\"open_session function error: \"\n",
    "                  f\"ip Address {ip} is not a valid Address. Please check and restart the script!\",)\n",
    "        return None, None, False\n",
    "    try:\n",
    "        jump_box = paramiko.SSHClient()\n",
    "        jump_box.set_missing_host_key_policy(paramiko.AutoAddPolicy())\n",
    "        jump_box.connect(jump_server_address, username=username, password=password)\n",
    "        jump_box_transport = jump_box.get_transport()\n",
    "        src_address = (local_IP_address, 22)\n",
    "        destination_address = (ip, 22)\n",
    "        jump_box_channel = jump_box_transport.open_channel(\"direct-tcpip\", destination_address, src_address)\n",
    "        target = paramiko.SSHClient()\n",
    "        target.set_missing_host_key_policy(paramiko.AutoAddPolicy())\n",
    "        target.connect(destination_address, username=username, password=password, sock=jump_box_channel)\n",
    "    except Exception as err:\n",
    "        print(f\"Unable to connect to IP Address: {ip}\")\n",
    "        return None, None, False\n",
    "    return target, jump_box, True\n",
    "\n",
    "\n",
    "def get_cdp_details(ip):\n",
    "    hostname = get_hostname(IP)\n",
    "    ssh, jump_box, connection = jump_session(ip)\n",
    "    if not connection:\n",
    "        return None\n",
    "    _, stdout, _ = ssh.exec_command(\"show cdp neighbors detail\")\n",
    "    stdout = stdout.read()\n",
    "    stdout = stdout.decode(\"utf-8\")\n",
    "    with open(\"TEXTFSM_TEMPLATES/cdp_details.txt\") as f:\n",
    "        re_table = textfsm.TextFSM(f)\n",
    "        result = re_table.ParseText(stdout)\n",
    "    result = [dict(zip(re_table.header, entry)) for entry in result]\n",
    "    for entry in result:\n",
    "        entry['LOCAL_HOST'] = hostname\n",
    "        collection_of_results.append(entry)\n",
    "    ssh.close()\n",
    "    jump_box.close()\n",
    "\n",
    "\n",
    "def get_hostname(ip):\n",
    "    ssh, jump_box, connection = jump_session(ip)\n",
    "    if not connection:\n",
    "        return None\n",
    "    _, stdout, _ = ssh.exec_command(\"show run | inc hostname\")\n",
    "    stdout = stdout.read()\n",
    "    stdout = stdout.decode(\"utf-8\")\n",
    "    with open(\"TEXTFSM_TEMPLATES/hostname.txt\") as f:\n",
    "        re_table = textfsm.TextFSM(f)\n",
    "        result = re_table.ParseText(stdout)\n",
    "        hostname = result[0][0]\n",
    "    ssh.close()\n",
    "    jump_box.close()\n",
    "    return hostname\n",
    "\n",
    "\n",
    "def to_excel(cdp_details):\n",
    "    global index\n",
    "    workbook = load_workbook(filename=filename)\n",
    "    ws = workbook[\"CDP Neighbors Detail\"]\n",
    "    ws[\"A1\"] = \"LOCAL_HOST\"\n",
    "    ws[\"B1\"] = \"LOCAL_PORT\"\n",
    "    ws[\"C1\"] = \"REMOTE_HOST\"\n",
    "    ws[\"D1\"] = \"REMOTE_PORT\"\n",
    "    ws[\"E1\"] = \"REMOTE_IP\"\n",
    "    ws[\"F1\"] = \"PLATFORM\"\n",
    "    ws[\"G1\"] = \"SOFTWARE_VERSION\"\n",
    "    ws[\"H1\"] = \"CAPABILITIES\"\n",
    "    ws.column_dimensions['A'].width = \"22\"\n",
    "    ws.column_dimensions['B'].width = \"22\"\n",
    "    ws.column_dimensions['C'].width = \"42\"\n",
    "    ws.column_dimensions['D'].width = \"22\"\n",
    "    ws.column_dimensions['E'].width = \"22\"\n",
    "    ws.column_dimensions['F'].width = \"42\"\n",
    "    ws.column_dimensions['G'].width = \"120\"\n",
    "    ws.column_dimensions['H'].width = \"42\"\n",
    "    \n",
    "    try:\n",
    "        for entry in cdp_details:\n",
    "            ws[f\"A{index}\"] = entry[\"LOCAL_HOST\"]\n",
    "            ws[f\"B{index}\"] = entry[\"LOCAL_PORT\"]\n",
    "            ws[f\"C{index}\"] = entry[\"REMOTE_HOST\"]\n",
    "            ws[f\"D{index}\"] = entry[\"REMOTE_PORT\"]\n",
    "            ws[f\"E{index}\"] = entry[\"REMOTE_IP\"]            \n",
    "            ws[f\"F{index}\"] = entry[\"PLATFORM\"]\n",
    "            ws[f\"G{index}\"] = entry[\"SOFTWARE_VERSION\"]\n",
    "            ws[f\"H{index}\"] = entry[\"CAPABILITIES\"]\n",
    "            workbook.save(filename=filename)\n",
    "            if entry[\"REMOTE_IP\"] not in  IPLIST:\n",
    "                IPLIST.append(entry[\"REMOTE_IP\"])\n",
    "    except Exception as err:\n",
    "        print(\"An Exception Occured\")\n",
    "        \n",
    "    index += 1\n",
    "    workbook.save(filename=filename)\n",
    "\n",
    "\n",
    "def main():\n",
    "    IPLIST.append(IPAddr)\n",
    "    \n",
    "    i = 0\n",
    "    while i < len(IPLIST):\n",
    "        limit = i + min(30, (len(IPLIST) - i))\n",
    "        IP_Addresses = IPLIST[i:limit]\n",
    "\n",
    "        for IP in IP_Addresses:\n",
    "            cdp_details = get_cdp_details(IP)\n",
    "            to_excel(collection_of_results)\n",
    "            \n",
    "        i = limit"
   ]
  },
  {
   "cell_type": "code",
   "execution_count": 4,
   "id": "adfdaf99-0f7b-4caf-aa6c-f30f46e69466",
   "metadata": {},
   "outputs": [
    {
     "name": "stderr",
     "output_type": "stream",
     "text": [
      "Secsh channel 0 open FAILED: Connection refused: Connect failed\n"
     ]
    },
    {
     "name": "stdout",
     "output_type": "stream",
     "text": [
      "Unable to connect to IP Address: 172.16.16.90\n"
     ]
    },
    {
     "name": "stderr",
     "output_type": "stream",
     "text": [
      "Secsh channel 0 open FAILED: Connection refused: Connect failed\n"
     ]
    },
    {
     "name": "stdout",
     "output_type": "stream",
     "text": [
      "Unable to connect to IP Address: 172.16.16.90\n"
     ]
    },
    {
     "name": "stderr",
     "output_type": "stream",
     "text": [
      "Secsh channel 0 open FAILED: No route to host: Connect failed\n"
     ]
    },
    {
     "name": "stdout",
     "output_type": "stream",
     "text": [
      "Unable to connect to IP Address: 10.250.3.145\n"
     ]
    },
    {
     "name": "stderr",
     "output_type": "stream",
     "text": [
      "Secsh channel 0 open FAILED: No route to host: Connect failed\n"
     ]
    },
    {
     "name": "stdout",
     "output_type": "stream",
     "text": [
      "Unable to connect to IP Address: 10.250.3.145\n"
     ]
    },
    {
     "name": "stderr",
     "output_type": "stream",
     "text": [
      "Secsh channel 0 open FAILED: No route to host: Connect failed\n"
     ]
    },
    {
     "name": "stdout",
     "output_type": "stream",
     "text": [
      "Unable to connect to IP Address: 10.250.3.153\n"
     ]
    },
    {
     "name": "stderr",
     "output_type": "stream",
     "text": [
      "Secsh channel 0 open FAILED: No route to host: Connect failed\n"
     ]
    },
    {
     "name": "stdout",
     "output_type": "stream",
     "text": [
      "Unable to connect to IP Address: 10.250.3.153\n"
     ]
    },
    {
     "name": "stderr",
     "output_type": "stream",
     "text": [
      "Secsh channel 0 open FAILED: No route to host: Connect failed\n"
     ]
    },
    {
     "name": "stdout",
     "output_type": "stream",
     "text": [
      "Unable to connect to IP Address: 10.250.15.109\n"
     ]
    },
    {
     "name": "stderr",
     "output_type": "stream",
     "text": [
      "Secsh channel 0 open FAILED: No route to host: Connect failed\n"
     ]
    },
    {
     "name": "stdout",
     "output_type": "stream",
     "text": [
      "Unable to connect to IP Address: 10.250.15.109\n"
     ]
    },
    {
     "name": "stderr",
     "output_type": "stream",
     "text": [
      "Secsh channel 0 open FAILED: No route to host: Connect failed\n"
     ]
    },
    {
     "name": "stdout",
     "output_type": "stream",
     "text": [
      "Unable to connect to IP Address: 10.250.15.105\n"
     ]
    },
    {
     "name": "stderr",
     "output_type": "stream",
     "text": [
      "Secsh channel 0 open FAILED: No route to host: Connect failed\n"
     ]
    },
    {
     "name": "stdout",
     "output_type": "stream",
     "text": [
      "Unable to connect to IP Address: 10.250.15.105\n",
      "Unable to connect to IP Address: 172.20.185.19\n",
      "Unable to connect to IP Address: 172.20.185.19\n",
      "Unable to connect to IP Address: 172.20.185.17\n",
      "Unable to connect to IP Address: 172.20.185.17\n"
     ]
    },
    {
     "ename": "KeyboardInterrupt",
     "evalue": "",
     "output_type": "error",
     "traceback": [
      "\u001b[1;31m---------------------------------------------------------------------------\u001b[0m",
      "\u001b[1;31mKeyboardInterrupt\u001b[0m                         Traceback (most recent call last)",
      "\u001b[1;32m<ipython-input-4-263240bbee7e>\u001b[0m in \u001b[0;36m<module>\u001b[1;34m\u001b[0m\n\u001b[1;32m----> 1\u001b[1;33m \u001b[0mmain\u001b[0m\u001b[1;33m(\u001b[0m\u001b[1;33m)\u001b[0m\u001b[1;33m\u001b[0m\u001b[1;33m\u001b[0m\u001b[0m\n\u001b[0m",
      "\u001b[1;32m<ipython-input-3-09b403b410ae>\u001b[0m in \u001b[0;36mmain\u001b[1;34m()\u001b[0m\n\u001b[0;32m    117\u001b[0m \u001b[1;33m\u001b[0m\u001b[0m\n\u001b[0;32m    118\u001b[0m         \u001b[1;32mfor\u001b[0m \u001b[0mIP\u001b[0m \u001b[1;32min\u001b[0m \u001b[0mIP_Addresses\u001b[0m\u001b[1;33m:\u001b[0m\u001b[1;33m\u001b[0m\u001b[1;33m\u001b[0m\u001b[0m\n\u001b[1;32m--> 119\u001b[1;33m             \u001b[0mhostname\u001b[0m \u001b[1;33m=\u001b[0m \u001b[0mget_hostname\u001b[0m\u001b[1;33m(\u001b[0m\u001b[0mIP\u001b[0m\u001b[1;33m)\u001b[0m\u001b[1;33m\u001b[0m\u001b[1;33m\u001b[0m\u001b[0m\n\u001b[0m\u001b[0;32m    120\u001b[0m             \u001b[0mcdp_details\u001b[0m \u001b[1;33m=\u001b[0m \u001b[0mget_cdp_details\u001b[0m\u001b[1;33m(\u001b[0m\u001b[0mIP\u001b[0m\u001b[1;33m,\u001b[0m \u001b[0mhostname\u001b[0m\u001b[1;33m)\u001b[0m\u001b[1;33m\u001b[0m\u001b[1;33m\u001b[0m\u001b[0m\n\u001b[0;32m    121\u001b[0m             \u001b[0mto_excel\u001b[0m\u001b[1;33m(\u001b[0m\u001b[0mcollection_of_results\u001b[0m\u001b[1;33m,\u001b[0m \u001b[0mhostname\u001b[0m\u001b[1;33m)\u001b[0m\u001b[1;33m\u001b[0m\u001b[1;33m\u001b[0m\u001b[0m\n",
      "\u001b[1;32m<ipython-input-3-09b403b410ae>\u001b[0m in \u001b[0;36mget_hostname\u001b[1;34m(ip)\u001b[0m\n\u001b[0;32m     48\u001b[0m \u001b[1;33m\u001b[0m\u001b[0m\n\u001b[0;32m     49\u001b[0m \u001b[1;32mdef\u001b[0m \u001b[0mget_hostname\u001b[0m\u001b[1;33m(\u001b[0m\u001b[0mip\u001b[0m\u001b[1;33m)\u001b[0m\u001b[1;33m:\u001b[0m\u001b[1;33m\u001b[0m\u001b[1;33m\u001b[0m\u001b[0m\n\u001b[1;32m---> 50\u001b[1;33m     \u001b[0mssh\u001b[0m\u001b[1;33m,\u001b[0m \u001b[0mjump_box\u001b[0m\u001b[1;33m,\u001b[0m \u001b[0mconnection\u001b[0m \u001b[1;33m=\u001b[0m \u001b[0mjump_session\u001b[0m\u001b[1;33m(\u001b[0m\u001b[0mip\u001b[0m\u001b[1;33m)\u001b[0m\u001b[1;33m\u001b[0m\u001b[1;33m\u001b[0m\u001b[0m\n\u001b[0m\u001b[0;32m     51\u001b[0m     \u001b[1;32mif\u001b[0m \u001b[1;32mnot\u001b[0m \u001b[0mconnection\u001b[0m\u001b[1;33m:\u001b[0m\u001b[1;33m\u001b[0m\u001b[1;33m\u001b[0m\u001b[0m\n\u001b[0;32m     52\u001b[0m         \u001b[1;32mreturn\u001b[0m \u001b[1;32mNone\u001b[0m\u001b[1;33m\u001b[0m\u001b[1;33m\u001b[0m\u001b[0m\n",
      "\u001b[1;32m<ipython-input-3-09b403b410ae>\u001b[0m in \u001b[0;36mjump_session\u001b[1;34m(ip)\u001b[0m\n\u001b[0;32m     19\u001b[0m         \u001b[0msrc_address\u001b[0m \u001b[1;33m=\u001b[0m \u001b[1;33m(\u001b[0m\u001b[0mlocal_IP_address\u001b[0m\u001b[1;33m,\u001b[0m \u001b[1;36m22\u001b[0m\u001b[1;33m)\u001b[0m\u001b[1;33m\u001b[0m\u001b[1;33m\u001b[0m\u001b[0m\n\u001b[0;32m     20\u001b[0m         \u001b[0mdestination_address\u001b[0m \u001b[1;33m=\u001b[0m \u001b[1;33m(\u001b[0m\u001b[0mip\u001b[0m\u001b[1;33m,\u001b[0m \u001b[1;36m22\u001b[0m\u001b[1;33m)\u001b[0m\u001b[1;33m\u001b[0m\u001b[1;33m\u001b[0m\u001b[0m\n\u001b[1;32m---> 21\u001b[1;33m         \u001b[0mjump_box_channel\u001b[0m \u001b[1;33m=\u001b[0m \u001b[0mjump_box_transport\u001b[0m\u001b[1;33m.\u001b[0m\u001b[0mopen_channel\u001b[0m\u001b[1;33m(\u001b[0m\u001b[1;34m\"direct-tcpip\"\u001b[0m\u001b[1;33m,\u001b[0m \u001b[0mdestination_address\u001b[0m\u001b[1;33m,\u001b[0m \u001b[0msrc_address\u001b[0m\u001b[1;33m)\u001b[0m\u001b[1;33m\u001b[0m\u001b[1;33m\u001b[0m\u001b[0m\n\u001b[0m\u001b[0;32m     22\u001b[0m         \u001b[0mtarget\u001b[0m \u001b[1;33m=\u001b[0m \u001b[0mparamiko\u001b[0m\u001b[1;33m.\u001b[0m\u001b[0mSSHClient\u001b[0m\u001b[1;33m(\u001b[0m\u001b[1;33m)\u001b[0m\u001b[1;33m\u001b[0m\u001b[1;33m\u001b[0m\u001b[0m\n\u001b[0;32m     23\u001b[0m         \u001b[0mtarget\u001b[0m\u001b[1;33m.\u001b[0m\u001b[0mset_missing_host_key_policy\u001b[0m\u001b[1;33m(\u001b[0m\u001b[0mparamiko\u001b[0m\u001b[1;33m.\u001b[0m\u001b[0mAutoAddPolicy\u001b[0m\u001b[1;33m(\u001b[0m\u001b[1;33m)\u001b[0m\u001b[1;33m)\u001b[0m\u001b[1;33m\u001b[0m\u001b[1;33m\u001b[0m\u001b[0m\n",
      "\u001b[1;32mc:\\jupyter_env\\jupyter_lab\\lib\\site-packages\\paramiko\\transport.py\u001b[0m in \u001b[0;36mopen_channel\u001b[1;34m(self, kind, dest_addr, src_addr, window_size, max_packet_size, timeout)\u001b[0m\n\u001b[0;32m    999\u001b[0m         \u001b[0mstart_ts\u001b[0m \u001b[1;33m=\u001b[0m \u001b[0mtime\u001b[0m\u001b[1;33m.\u001b[0m\u001b[0mtime\u001b[0m\u001b[1;33m(\u001b[0m\u001b[1;33m)\u001b[0m\u001b[1;33m\u001b[0m\u001b[1;33m\u001b[0m\u001b[0m\n\u001b[0;32m   1000\u001b[0m         \u001b[1;32mwhile\u001b[0m \u001b[1;32mTrue\u001b[0m\u001b[1;33m:\u001b[0m\u001b[1;33m\u001b[0m\u001b[1;33m\u001b[0m\u001b[0m\n\u001b[1;32m-> 1001\u001b[1;33m             \u001b[0mevent\u001b[0m\u001b[1;33m.\u001b[0m\u001b[0mwait\u001b[0m\u001b[1;33m(\u001b[0m\u001b[1;36m0.1\u001b[0m\u001b[1;33m)\u001b[0m\u001b[1;33m\u001b[0m\u001b[1;33m\u001b[0m\u001b[0m\n\u001b[0m\u001b[0;32m   1002\u001b[0m             \u001b[1;32mif\u001b[0m \u001b[1;32mnot\u001b[0m \u001b[0mself\u001b[0m\u001b[1;33m.\u001b[0m\u001b[0mactive\u001b[0m\u001b[1;33m:\u001b[0m\u001b[1;33m\u001b[0m\u001b[1;33m\u001b[0m\u001b[0m\n\u001b[0;32m   1003\u001b[0m                 \u001b[0me\u001b[0m \u001b[1;33m=\u001b[0m \u001b[0mself\u001b[0m\u001b[1;33m.\u001b[0m\u001b[0mget_exception\u001b[0m\u001b[1;33m(\u001b[0m\u001b[1;33m)\u001b[0m\u001b[1;33m\u001b[0m\u001b[1;33m\u001b[0m\u001b[0m\n",
      "\u001b[1;32mC:\\Program Files\\Python39\\lib\\threading.py\u001b[0m in \u001b[0;36mwait\u001b[1;34m(self, timeout)\u001b[0m\n\u001b[0;32m    572\u001b[0m             \u001b[0msignaled\u001b[0m \u001b[1;33m=\u001b[0m \u001b[0mself\u001b[0m\u001b[1;33m.\u001b[0m\u001b[0m_flag\u001b[0m\u001b[1;33m\u001b[0m\u001b[1;33m\u001b[0m\u001b[0m\n\u001b[0;32m    573\u001b[0m             \u001b[1;32mif\u001b[0m \u001b[1;32mnot\u001b[0m \u001b[0msignaled\u001b[0m\u001b[1;33m:\u001b[0m\u001b[1;33m\u001b[0m\u001b[1;33m\u001b[0m\u001b[0m\n\u001b[1;32m--> 574\u001b[1;33m                 \u001b[0msignaled\u001b[0m \u001b[1;33m=\u001b[0m \u001b[0mself\u001b[0m\u001b[1;33m.\u001b[0m\u001b[0m_cond\u001b[0m\u001b[1;33m.\u001b[0m\u001b[0mwait\u001b[0m\u001b[1;33m(\u001b[0m\u001b[0mtimeout\u001b[0m\u001b[1;33m)\u001b[0m\u001b[1;33m\u001b[0m\u001b[1;33m\u001b[0m\u001b[0m\n\u001b[0m\u001b[0;32m    575\u001b[0m             \u001b[1;32mreturn\u001b[0m \u001b[0msignaled\u001b[0m\u001b[1;33m\u001b[0m\u001b[1;33m\u001b[0m\u001b[0m\n\u001b[0;32m    576\u001b[0m \u001b[1;33m\u001b[0m\u001b[0m\n",
      "\u001b[1;32mC:\\Program Files\\Python39\\lib\\threading.py\u001b[0m in \u001b[0;36mwait\u001b[1;34m(self, timeout)\u001b[0m\n\u001b[0;32m    314\u001b[0m             \u001b[1;32melse\u001b[0m\u001b[1;33m:\u001b[0m\u001b[1;33m\u001b[0m\u001b[1;33m\u001b[0m\u001b[0m\n\u001b[0;32m    315\u001b[0m                 \u001b[1;32mif\u001b[0m \u001b[0mtimeout\u001b[0m \u001b[1;33m>\u001b[0m \u001b[1;36m0\u001b[0m\u001b[1;33m:\u001b[0m\u001b[1;33m\u001b[0m\u001b[1;33m\u001b[0m\u001b[0m\n\u001b[1;32m--> 316\u001b[1;33m                     \u001b[0mgotit\u001b[0m \u001b[1;33m=\u001b[0m \u001b[0mwaiter\u001b[0m\u001b[1;33m.\u001b[0m\u001b[0macquire\u001b[0m\u001b[1;33m(\u001b[0m\u001b[1;32mTrue\u001b[0m\u001b[1;33m,\u001b[0m \u001b[0mtimeout\u001b[0m\u001b[1;33m)\u001b[0m\u001b[1;33m\u001b[0m\u001b[1;33m\u001b[0m\u001b[0m\n\u001b[0m\u001b[0;32m    317\u001b[0m                 \u001b[1;32melse\u001b[0m\u001b[1;33m:\u001b[0m\u001b[1;33m\u001b[0m\u001b[1;33m\u001b[0m\u001b[0m\n\u001b[0;32m    318\u001b[0m                     \u001b[0mgotit\u001b[0m \u001b[1;33m=\u001b[0m \u001b[0mwaiter\u001b[0m\u001b[1;33m.\u001b[0m\u001b[0macquire\u001b[0m\u001b[1;33m(\u001b[0m\u001b[1;32mFalse\u001b[0m\u001b[1;33m)\u001b[0m\u001b[1;33m\u001b[0m\u001b[1;33m\u001b[0m\u001b[0m\n",
      "\u001b[1;31mKeyboardInterrupt\u001b[0m: "
     ]
    }
   ],
   "source": [
    "main()"
   ]
  },
  {
   "cell_type": "code",
   "execution_count": 8,
   "id": "85dfac46-870d-4855-9ed5-510b051c91ab",
   "metadata": {},
   "outputs": [
    {
     "data": {
      "text/plain": [
       "[{'REMOTE_HOST': 'gb-brs1-001csw001.cns.muellergroup.com',\n",
       "  'REMOTE_IP': '172.20.16.1',\n",
       "  'PLATFORM': 'cisco WS-C3850-24T',\n",
       "  'REMOTE_PORT': 'GigabitEthernet1/0/1',\n",
       "  'LOCAL_PORT': 'FastEthernet0/24',\n",
       "  'SOFTWARE_VERSION': 'Cisco IOS Software [Denali], Catalyst L3 Switch Software (CAT3K_CAA-UNIVERSALK9-M), Version 16.3.5b, RELEASE SOFTWARE (fc1)',\n",
       "  'CAPABILITIES': 'Router Switch IGMP',\n",
       "  'LOCAL_HOST': 'gb-brs1-001asw001'},\n",
       " {'REMOTE_HOST': 'gb-brs1-001asw003.cns.muellergroup.com',\n",
       "  'REMOTE_IP': '172.106.32.100',\n",
       "  'PLATFORM': 'cisco WS-C3560V2-24PS',\n",
       "  'REMOTE_PORT': 'GigabitEthernet0/2',\n",
       "  'LOCAL_PORT': 'GigabitEthernet0/2',\n",
       "  'SOFTWARE_VERSION': 'Cisco IOS Software, C3560 Software (C3560-IPBASEK9-M), Version 12.2(58)SE2, RELEASE SOFTWARE (fc1)',\n",
       "  'CAPABILITIES': 'Router Switch IGMP',\n",
       "  'LOCAL_HOST': 'gb-brs1-001asw001'},\n",
       " {'REMOTE_HOST': 'gb-brs1-001asw002.cns.muellergroup.com',\n",
       "  'REMOTE_IP': '172.106.32.98',\n",
       "  'PLATFORM': 'cisco WS-C3560V2-24PS',\n",
       "  'REMOTE_PORT': 'GigabitEthernet0/1',\n",
       "  'LOCAL_PORT': 'GigabitEthernet0/1',\n",
       "  'SOFTWARE_VERSION': 'Cisco IOS Software, C3560 Software (C3560-IPSERVICESK9-M), Version 12.2(55)SE8, RELEASE SOFTWARE (fc2)',\n",
       "  'CAPABILITIES': 'Router Switch IGMP',\n",
       "  'LOCAL_HOST': 'gb-brs1-001asw001'},\n",
       " {'REMOTE_HOST': 'SEP007686EDD192',\n",
       "  'REMOTE_IP': '172.16.16.90',\n",
       "  'PLATFORM': 'Cisco IP Phone 7811',\n",
       "  'REMOTE_PORT': 'Port 1',\n",
       "  'LOCAL_PORT': 'FastEthernet0/13',\n",
       "  'SOFTWARE_VERSION': 'sip78xx.12-7-1-0001-393.loads',\n",
       "  'CAPABILITIES': 'Host Phone Two-port Mac Relay',\n",
       "  'LOCAL_HOST': 'gb-brs1-001asw001'}]"
      ]
     },
     "execution_count": 8,
     "metadata": {},
     "output_type": "execute_result"
    }
   ],
   "source": [
    "collection_of_results"
   ]
  }
 ],
 "metadata": {
  "kernelspec": {
   "display_name": "Python 3",
   "language": "python",
   "name": "python3"
  },
  "language_info": {
   "codemirror_mode": {
    "name": "ipython",
    "version": 3
   },
   "file_extension": ".py",
   "mimetype": "text/x-python",
   "name": "python",
   "nbconvert_exporter": "python",
   "pygments_lexer": "ipython3",
   "version": "3.9.5"
  }
 },
 "nbformat": 4,
 "nbformat_minor": 5
}
