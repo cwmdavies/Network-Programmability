{
 "cells": [
  {
   "cell_type": "code",
   "execution_count": 1,
   "id": "2209ea40-0f7f-47cf-a2cb-e68ec68d91d3",
   "metadata": {},
   "outputs": [],
   "source": [
    "import paramiko\n",
    "import textfsm\n",
    "from getpass import getpass\n",
    "from openpyxl import load_workbook, Workbook\n",
    "import ipaddress"
   ]
  },
  {
   "cell_type": "code",
   "execution_count": 2,
   "id": "9418368a-c031-4e00-b21c-25eca5351f1b",
   "metadata": {},
   "outputs": [],
   "source": [
    "IPAddr = '172.106.32.97'\n",
    "username = 'adm.davies'\n",
    "password = '!\"Lepsodizle0!\"'\n",
    "jump_server_address = '10.251.6.31'\n",
    "local_IP_address = '127.0.0.1'\n",
    "IPLIST = []\n",
    "collection_of_results = []\n",
    "filename = \"CDP_Neighbors_Detail.xlsx\"\n",
    "index = 2"
   ]
  },
  {
   "cell_type": "code",
   "execution_count": 3,
   "id": "7204f4cd-5ecc-4571-af6f-f1b2bc7457a0",
   "metadata": {},
   "outputs": [],
   "source": [
    "def ip_check(ip):\n",
    "    try:\n",
    "        ipaddress.ip_address(ip)\n",
    "        return True\n",
    "    except ValueError:\n",
    "        return False\n",
    "\n",
    "\n",
    "def jump_session(ip):\n",
    "    if not ip_check(ip):\n",
    "        print(f\"open_session function error: \"\n",
    "                  f\"ip Address {ip} is not a valid Address. Please check and restart the script!\",)\n",
    "        return None, None, False\n",
    "    try:\n",
    "        jump_box = paramiko.SSHClient()\n",
    "        jump_box.set_missing_host_key_policy(paramiko.AutoAddPolicy())\n",
    "        jump_box.connect(jump_server_address, username=username, password=password)\n",
    "        jump_box_transport = jump_box.get_transport()\n",
    "        src_address = (local_IP_address, 22)\n",
    "        destination_address = (ip, 22)\n",
    "        jump_box_channel = jump_box_transport.open_channel(\"direct-tcpip\", destination_address, src_address)\n",
    "        target = paramiko.SSHClient()\n",
    "        target.set_missing_host_key_policy(paramiko.AutoAddPolicy())\n",
    "        target.connect(destination_address, username=username, password=password, sock=jump_box_channel)\n",
    "    except Exception as err:\n",
    "        print(f\"Unable to connect to IP Address: {ip}\")\n",
    "        return None, None, False\n",
    "    return target, jump_box, True\n",
    "\n",
    "\n",
    "def get_cdp_details(ip):\n",
    "    hostname = get_hostname(ip)\n",
    "    ssh, jump_box, connection = jump_session(ip)\n",
    "    if not connection:\n",
    "        return None\n",
    "    _, stdout, _ = ssh.exec_command(\"show cdp neighbors detail\")\n",
    "    stdout = stdout.read()\n",
    "    stdout = stdout.decode(\"utf-8\")\n",
    "    with open(\"TEXTFSM_TEMPLATES/cdp_details.txt\") as f:\n",
    "        re_table = textfsm.TextFSM(f)\n",
    "        result = re_table.ParseText(stdout)\n",
    "    result = [dict(zip(re_table.header, entry)) for entry in result]\n",
    "    for entry in result:\n",
    "        entry['LOCAL_HOST'] = hostname\n",
    "        collection_of_results.append(entry)\n",
    "        if entry[\"REMOTE_IP\"] not in IPLIST:\n",
    "            IPLIST.append(entry[\"REMOTE_IP\"])\n",
    "    ssh.close()\n",
    "    jump_box.close()\n",
    "\n",
    "\n",
    "def get_hostname(ip):\n",
    "    ssh, jump_box, connection = jump_session(ip)\n",
    "    if not connection:\n",
    "        return None\n",
    "    _, stdout, _ = ssh.exec_command(\"show run | inc hostname\")\n",
    "    stdout = stdout.read()\n",
    "    stdout = stdout.decode(\"utf-8\")\n",
    "    with open(\"TEXTFSM_TEMPLATES/hostname.txt\") as f:\n",
    "        re_table = textfsm.TextFSM(f)\n",
    "        result = re_table.ParseText(stdout)\n",
    "        hostname = result[0][0]\n",
    "    ssh.close()\n",
    "    jump_box.close()\n",
    "    return hostname\n",
    "\n",
    "\n",
    "def to_excel(cdp_details):\n",
    "    global index\n",
    "    workbook = load_workbook(filename=filename)\n",
    "    ws = workbook[\"CDP Neighbors Detail\"]\n",
    "    try:\n",
    "        for entry in cdp_details:\n",
    "            ws[f\"A{index}\"] = entry[\"LOCAL_HOST\"]\n",
    "            ws[f\"B{index}\"] = entry[\"LOCAL_PORT\"]\n",
    "            ws[f\"C{index}\"] = entry[\"REMOTE_HOST\"]\n",
    "            ws[f\"D{index}\"] = entry[\"REMOTE_PORT\"]\n",
    "            ws[f\"E{index}\"] = entry[\"REMOTE_IP\"]            \n",
    "            ws[f\"F{index}\"] = entry[\"PLATFORM\"]\n",
    "            ws[f\"G{index}\"] = entry[\"SOFTWARE_VERSION\"]\n",
    "            ws[f\"H{index}\"] = entry[\"CAPABILITIES\"]\n",
    "            workbook.save(filename=filename)\n",
    "            index += 1\n",
    "            \n",
    "    except Exception as err:\n",
    "        print(\"An Exception Occured\")\n",
    "        print({err})\n",
    "        \n",
    "    workbook.save(filename=filename)\n",
    "\n",
    "\n",
    "def main():\n",
    "    IPLIST.append(IPAddr)\n",
    "    \n",
    "    workbook = Workbook()\n",
    "    workbook.create_sheet(\"CDP Neighbors Detail\")\n",
    "    del workbook[\"Sheet\"]\n",
    "    workbook.save(filename=filename)\n",
    "    workbook = load_workbook(filename=filename)\n",
    "    ws = workbook[\"CDP Neighbors Detail\"]\n",
    "    ws[\"A1\"] = \"LOCAL_HOST\"\n",
    "    ws[\"B1\"] = \"LOCAL_PORT\"\n",
    "    ws[\"C1\"] = \"REMOTE_HOST\"\n",
    "    ws[\"D1\"] = \"REMOTE_PORT\"\n",
    "    ws[\"E1\"] = \"REMOTE_IP\"\n",
    "    ws[\"F1\"] = \"PLATFORM\"\n",
    "    ws[\"G1\"] = \"SOFTWARE_VERSION\"\n",
    "    ws[\"H1\"] = \"CAPABILITIES\"\n",
    "    ws.column_dimensions['A'].width = \"22\"\n",
    "    ws.column_dimensions['B'].width = \"22\"\n",
    "    ws.column_dimensions['C'].width = \"42\"\n",
    "    ws.column_dimensions['D'].width = \"22\"\n",
    "    ws.column_dimensions['E'].width = \"22\"\n",
    "    ws.column_dimensions['F'].width = \"42\"\n",
    "    ws.column_dimensions['G'].width = \"120\"\n",
    "    ws.column_dimensions['H'].width = \"42\"\n",
    "    workbook.save(filename=filename)\n",
    "        \n",
    "    i = 0\n",
    "    while i < len(IPLIST):\n",
    "        limit = i + min(30, (len(IPLIST) - i))\n",
    "        IP_Addresses = IPLIST[i:limit]\n",
    "\n",
    "        for IP in IP_Addresses:\n",
    "            cdp_details = get_cdp_details(IP)\n",
    "            \n",
    "        i = limit\n",
    "    to_excel(collection_of_results)"
   ]
  },
  {
   "cell_type": "code",
   "execution_count": 4,
   "id": "adfdaf99-0f7b-4caf-aa6c-f30f46e69466",
   "metadata": {},
   "outputs": [
    {
     "name": "stderr",
     "output_type": "stream",
     "text": [
      "Secsh channel 0 open FAILED: Connection refused: Connect failed\n"
     ]
    },
    {
     "name": "stdout",
     "output_type": "stream",
     "text": [
      "Unable to connect to IP Address: 172.16.16.90\n"
     ]
    },
    {
     "name": "stderr",
     "output_type": "stream",
     "text": [
      "Secsh channel 0 open FAILED: Connection refused: Connect failed\n"
     ]
    },
    {
     "name": "stdout",
     "output_type": "stream",
     "text": [
      "Unable to connect to IP Address: 172.16.16.90\n"
     ]
    },
    {
     "name": "stderr",
     "output_type": "stream",
     "text": [
      "Secsh channel 0 open FAILED: No route to host: Connect failed\n"
     ]
    },
    {
     "name": "stdout",
     "output_type": "stream",
     "text": [
      "Unable to connect to IP Address: 10.250.3.145\n"
     ]
    },
    {
     "name": "stderr",
     "output_type": "stream",
     "text": [
      "Secsh channel 0 open FAILED: No route to host: Connect failed\n"
     ]
    },
    {
     "name": "stdout",
     "output_type": "stream",
     "text": [
      "Unable to connect to IP Address: 10.250.3.145\n"
     ]
    },
    {
     "name": "stderr",
     "output_type": "stream",
     "text": [
      "Secsh channel 0 open FAILED: No route to host: Connect failed\n"
     ]
    },
    {
     "name": "stdout",
     "output_type": "stream",
     "text": [
      "Unable to connect to IP Address: 10.250.3.153\n"
     ]
    },
    {
     "name": "stderr",
     "output_type": "stream",
     "text": [
      "Secsh channel 0 open FAILED: No route to host: Connect failed\n"
     ]
    },
    {
     "name": "stdout",
     "output_type": "stream",
     "text": [
      "Unable to connect to IP Address: 10.250.3.153\n"
     ]
    },
    {
     "name": "stderr",
     "output_type": "stream",
     "text": [
      "Secsh channel 0 open FAILED: No route to host: Connect failed\n"
     ]
    },
    {
     "name": "stdout",
     "output_type": "stream",
     "text": [
      "Unable to connect to IP Address: 10.250.15.109\n"
     ]
    },
    {
     "name": "stderr",
     "output_type": "stream",
     "text": [
      "Secsh channel 0 open FAILED: No route to host: Connect failed\n"
     ]
    },
    {
     "name": "stdout",
     "output_type": "stream",
     "text": [
      "Unable to connect to IP Address: 10.250.15.109\n"
     ]
    },
    {
     "name": "stderr",
     "output_type": "stream",
     "text": [
      "Secsh channel 0 open FAILED: No route to host: Connect failed\n"
     ]
    },
    {
     "name": "stdout",
     "output_type": "stream",
     "text": [
      "Unable to connect to IP Address: 10.250.15.105\n"
     ]
    },
    {
     "name": "stderr",
     "output_type": "stream",
     "text": [
      "Secsh channel 0 open FAILED: No route to host: Connect failed\n"
     ]
    },
    {
     "name": "stdout",
     "output_type": "stream",
     "text": [
      "Unable to connect to IP Address: 10.250.15.105\n",
      "Unable to connect to IP Address: 172.20.185.19\n",
      "Unable to connect to IP Address: 172.20.185.19\n",
      "Unable to connect to IP Address: 172.20.185.17\n",
      "Unable to connect to IP Address: 172.20.185.17\n"
     ]
    },
    {
     "name": "stderr",
     "output_type": "stream",
     "text": [
      "Secsh channel 0 open FAILED: Connection timed out: Connect failed\n"
     ]
    },
    {
     "name": "stdout",
     "output_type": "stream",
     "text": [
      "Unable to connect to IP Address: 172.16.16.70\n"
     ]
    },
    {
     "name": "stderr",
     "output_type": "stream",
     "text": [
      "Secsh channel 0 open FAILED: Connection timed out: Connect failed\n"
     ]
    },
    {
     "name": "stdout",
     "output_type": "stream",
     "text": [
      "Unable to connect to IP Address: 172.16.16.70\n",
      "Unable to connect to IP Address: 172.20.185.20\n",
      "Unable to connect to IP Address: 172.20.185.20\n",
      "Unable to connect to IP Address: 172.20.185.15\n",
      "Unable to connect to IP Address: 172.20.185.15\n",
      "Unable to connect to IP Address: 172.20.185.21\n",
      "Unable to connect to IP Address: 172.20.185.21\n"
     ]
    },
    {
     "name": "stderr",
     "output_type": "stream",
     "text": [
      "Secsh channel 0 open FAILED: Connection refused: Connect failed\n"
     ]
    },
    {
     "name": "stdout",
     "output_type": "stream",
     "text": [
      "Unable to connect to IP Address: 172.16.16.103\n"
     ]
    },
    {
     "name": "stderr",
     "output_type": "stream",
     "text": [
      "Secsh channel 0 open FAILED: Connection refused: Connect failed\n"
     ]
    },
    {
     "name": "stdout",
     "output_type": "stream",
     "text": [
      "Unable to connect to IP Address: 172.16.16.103\n"
     ]
    },
    {
     "name": "stderr",
     "output_type": "stream",
     "text": [
      "Secsh channel 0 open FAILED: Connection refused: Connect failed\n"
     ]
    },
    {
     "name": "stdout",
     "output_type": "stream",
     "text": [
      "Unable to connect to IP Address: 172.16.16.93\n"
     ]
    },
    {
     "name": "stderr",
     "output_type": "stream",
     "text": [
      "Secsh channel 0 open FAILED: Connection refused: Connect failed\n"
     ]
    },
    {
     "name": "stdout",
     "output_type": "stream",
     "text": [
      "Unable to connect to IP Address: 172.16.16.93\n"
     ]
    },
    {
     "name": "stderr",
     "output_type": "stream",
     "text": [
      "Secsh channel 0 open FAILED: No route to host: Connect failed\n"
     ]
    },
    {
     "name": "stdout",
     "output_type": "stream",
     "text": [
      "Unable to connect to IP Address: 10.250.15.110\n"
     ]
    },
    {
     "name": "stderr",
     "output_type": "stream",
     "text": [
      "Secsh channel 0 open FAILED: No route to host: Connect failed\n"
     ]
    },
    {
     "name": "stdout",
     "output_type": "stream",
     "text": [
      "Unable to connect to IP Address: 10.250.15.110\n",
      "Unable to connect to IP Address: 193.117.220.202\n",
      "Unable to connect to IP Address: 193.117.220.202\n"
     ]
    },
    {
     "name": "stderr",
     "output_type": "stream",
     "text": [
      "Secsh channel 0 open FAILED: No route to host: Connect failed\n"
     ]
    },
    {
     "name": "stdout",
     "output_type": "stream",
     "text": [
      "Unable to connect to IP Address: 10.250.15.106\n"
     ]
    },
    {
     "name": "stderr",
     "output_type": "stream",
     "text": [
      "Secsh channel 0 open FAILED: No route to host: Connect failed\n"
     ]
    },
    {
     "name": "stdout",
     "output_type": "stream",
     "text": [
      "Unable to connect to IP Address: 10.250.15.106\n"
     ]
    },
    {
     "name": "stderr",
     "output_type": "stream",
     "text": [
      "Secsh channel 0 open FAILED: Connection refused: Connect failed\n"
     ]
    },
    {
     "name": "stdout",
     "output_type": "stream",
     "text": [
      "Unable to connect to IP Address: 172.16.16.67\n"
     ]
    },
    {
     "name": "stderr",
     "output_type": "stream",
     "text": [
      "Secsh channel 0 open FAILED: Connection refused: Connect failed\n"
     ]
    },
    {
     "name": "stdout",
     "output_type": "stream",
     "text": [
      "Unable to connect to IP Address: 172.16.16.67\n",
      "Unable to connect to IP Address: 172.20.185.16\n",
      "Unable to connect to IP Address: 172.20.185.16\n",
      "Unable to connect to IP Address: 172.20.185.22\n",
      "Unable to connect to IP Address: 172.20.185.22\n",
      "Unable to connect to IP Address: 172.20.185.23\n",
      "Unable to connect to IP Address: 172.20.185.23\n",
      "Unable to connect to IP Address: 172.20.185.18\n",
      "Unable to connect to IP Address: 172.20.185.18\n"
     ]
    },
    {
     "name": "stderr",
     "output_type": "stream",
     "text": [
      "Secsh channel 0 open FAILED: Connection timed out: Connect failed\n"
     ]
    },
    {
     "name": "stdout",
     "output_type": "stream",
     "text": [
      "Unable to connect to IP Address: 172.16.16.68\n"
     ]
    },
    {
     "name": "stderr",
     "output_type": "stream",
     "text": [
      "Secsh channel 0 open FAILED: Connection timed out: Connect failed\n"
     ]
    },
    {
     "name": "stdout",
     "output_type": "stream",
     "text": [
      "Unable to connect to IP Address: 172.16.16.68\n"
     ]
    },
    {
     "name": "stderr",
     "output_type": "stream",
     "text": [
      "Secsh channel 0 open FAILED: Connection timed out: Connect failed\n"
     ]
    },
    {
     "name": "stdout",
     "output_type": "stream",
     "text": [
      "Unable to connect to IP Address: 172.16.16.69\n"
     ]
    },
    {
     "name": "stderr",
     "output_type": "stream",
     "text": [
      "Secsh channel 0 open FAILED: Connection timed out: Connect failed\n"
     ]
    },
    {
     "name": "stdout",
     "output_type": "stream",
     "text": [
      "Unable to connect to IP Address: 172.16.16.69\n"
     ]
    }
   ],
   "source": [
    "main()"
   ]
  }
 ],
 "metadata": {
  "kernelspec": {
   "display_name": "Python 3",
   "language": "python",
   "name": "python3"
  },
  "language_info": {
   "codemirror_mode": {
    "name": "ipython",
    "version": 3
   },
   "file_extension": ".py",
   "mimetype": "text/x-python",
   "name": "python",
   "nbconvert_exporter": "python",
   "pygments_lexer": "ipython3",
   "version": "3.9.5"
  }
 },
 "nbformat": 4,
 "nbformat_minor": 5
}
