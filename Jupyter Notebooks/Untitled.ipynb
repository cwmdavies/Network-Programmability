{
 "cells": [
  {
   "cell_type": "code",
   "execution_count": 8,
   "id": "3fe2d0be-857c-4526-9969-3813ef597cef",
   "metadata": {},
   "outputs": [],
   "source": [
    "from openpyxl import load_workbook, Workbook"
   ]
  },
  {
   "cell_type": "code",
   "execution_count": 9,
   "id": "0bbb0def-499b-45e7-b8c1-74d8e9f3f5b1",
   "metadata": {},
   "outputs": [],
   "source": [
    "filename = \"Interfaces.xlsx\""
   ]
  },
  {
   "cell_type": "code",
   "execution_count": 10,
   "id": "738bd847-76fb-4e7f-a721-57d88f672b3c",
   "metadata": {},
   "outputs": [],
   "source": [
    "workbook = Workbook()\n",
    "workbook.save(filename=filename)\n",
    "workbook = load_workbook(filename=filename)"
   ]
  },
  {
   "cell_type": "code",
   "execution_count": 11,
   "id": "7a1b38ce-3203-4163-8d30-5604df4fdc8f",
   "metadata": {},
   "outputs": [
    {
     "data": {
      "text/plain": [
       "<Worksheet \"Interface configuration\">"
      ]
     },
     "execution_count": 11,
     "metadata": {},
     "output_type": "execute_result"
    }
   ],
   "source": [
    "workbook.create_sheet(\"Interface configuration\")"
   ]
  },
  {
   "cell_type": "code",
   "execution_count": 12,
   "id": "23e25ce1-3975-452c-950a-4343b0fe252b",
   "metadata": {},
   "outputs": [],
   "source": [
    "ws = workbook[\"Interface configuration\"]"
   ]
  },
  {
   "cell_type": "code",
   "execution_count": 13,
   "id": "47c9e7cb-2b00-41d1-addc-587df44c8685",
   "metadata": {},
   "outputs": [],
   "source": [
    "del workbook[\"Sheet\"]"
   ]
  }
 ],
 "metadata": {
  "kernelspec": {
   "display_name": "Python 3",
   "language": "python",
   "name": "python3"
  },
  "language_info": {
   "codemirror_mode": {
    "name": "ipython",
    "version": 3
   },
   "file_extension": ".py",
   "mimetype": "text/x-python",
   "name": "python",
   "nbconvert_exporter": "python",
   "pygments_lexer": "ipython3",
   "version": "3.9.5"
  }
 },
 "nbformat": 4,
 "nbformat_minor": 5
}
