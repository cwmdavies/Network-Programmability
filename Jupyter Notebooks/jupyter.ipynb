{
 "metadata": {
  "language_info": {
   "codemirror_mode": {
    "name": "ipython",
    "version": 3
   },
   "file_extension": ".py",
   "mimetype": "text/x-python",
   "name": "python",
   "nbconvert_exporter": "python",
   "pygments_lexer": "ipython3",
   "version": "3.8.5-final"
  },
  "orig_nbformat": 2,
  "kernelspec": {
   "name": "python385jvsc74a57bd01f67f1e9030f37d091e130808815db2d6d54d961e448b45bb26cc54e8d4cf9c5",
   "display_name": "Python 3.8.5 32-bit"
  }
 },
 "nbformat": 4,
 "nbformat_minor": 2,
 "cells": [
  {
   "cell_type": "code",
   "execution_count": null,
   "metadata": {},
   "outputs": [],
   "source": [
    "from openpyxl import *"
   ]
  },
  {
   "cell_type": "code",
   "execution_count": 49,
   "metadata": {},
   "outputs": [],
   "source": [
    "class _excel:\n",
    "    def __init__(self, name):\n",
    "        self.name = name\n",
    "        filename = self.name + \".xlsx\"\n",
    "        workbook = Workbook()\n",
    "        workbook.save(filename=filename)\n",
    "    def get_sheet(self):\n",
    "        workbook = load_workbook(filename=self.name + \".xlsx\")\n",
    "        return workbook.sheetnames\n",
    "    def add_col(self, col_name):\n",
    "        workbook = load_workbook(filename=self.name + \".xlsx\")\n",
    "        col_name = workbook.create_sheet(col_name, 0)\n",
    "        workbook.save(filename=self.name + \".xlsx\")\n"
   ]
  },
  {
   "cell_type": "code",
   "execution_count": 50,
   "metadata": {},
   "outputs": [],
   "source": [
    "sheet1 = _excel(\"Test\")"
   ]
  },
  {
   "cell_type": "code",
   "execution_count": 51,
   "metadata": {},
   "outputs": [
    {
     "output_type": "execute_result",
     "data": {
      "text/plain": [
       "['Sheet']"
      ]
     },
     "metadata": {},
     "execution_count": 51
    }
   ],
   "source": [
    "sheet1.get_sheet()"
   ]
  },
  {
   "cell_type": "code",
   "execution_count": 52,
   "metadata": {},
   "outputs": [],
   "source": [
    "sheet2 = _excel(\"Test2\")"
   ]
  },
  {
   "cell_type": "code",
   "execution_count": 55,
   "metadata": {},
   "outputs": [
    {
     "output_type": "execute_result",
     "data": {
      "text/plain": [
       "['Sheet', 'IP Addressses']"
      ]
     },
     "metadata": {},
     "execution_count": 55
    }
   ],
   "source": [
    "sheet2.get_sheet()"
   ]
  },
  {
   "cell_type": "code",
   "execution_count": 54,
   "metadata": {},
   "outputs": [],
   "source": [
    "sheet2.add_col(\"IP Addressses\")"
   ]
  },
  {
   "cell_type": "code",
   "execution_count": null,
   "metadata": {},
   "outputs": [],
   "source": []
  }
 ]
}