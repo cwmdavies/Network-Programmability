{
 "metadata": {
  "language_info": {
   "codemirror_mode": {
    "name": "ipython",
    "version": 3
   },
   "file_extension": ".py",
   "mimetype": "text/x-python",
   "name": "python",
   "nbconvert_exporter": "python",
   "pygments_lexer": "ipython3",
   "version": "3.8.5-final"
  },
  "orig_nbformat": 2,
  "kernelspec": {
   "name": "python385jvsc74a57bd01f67f1e9030f37d091e130808815db2d6d54d961e448b45bb26cc54e8d4cf9c5",
   "display_name": "Python 3.8.5 32-bit"
  },
  "metadata": {
   "interpreter": {
    "hash": "ac59ebe37160ed0dfa835113d9b8498d9f09ceb179beaac4002f036b9467c963"
   }
  }
 },
 "nbformat": 4,
 "nbformat_minor": 2,
 "cells": [
  {
   "cell_type": "code",
   "execution_count": 1,
   "metadata": {},
   "outputs": [],
   "source": [
    "from openpyxl import load_workbook, Workbook"
   ]
  },
  {
   "cell_type": "code",
   "execution_count": 4,
   "metadata": {},
   "outputs": [],
   "source": [
    "class __excel:\n",
    "    def __init__(self, name):\n",
    "        self.i = 0\n",
    "        self.name = name\n",
    "        self.filename = self.name + \".xlsx\"\n",
    "        workbook = Workbook()\n",
    "        workbook.save(filename=self.filename)\n",
    "    def get_sheets(self):\n",
    "        workbook = load_workbook(filename=self.filename)\n",
    "        return workbook.sheetnames\n",
    "    def add_sheets(self, *col_name):\n",
    "        workbook = load_workbook(filename=self.filename)\n",
    "        for value in col_name:\n",
    "            if value not in workbook.sheetnames:\n",
    "                col_name = workbook.create_sheet(value, self.i)\n",
    "                self.i += 1\n",
    "            else:\n",
    "                print(f\"{value} already exists in {self.name}. Ignoring column creation!\")\n",
    "        if \"Sheet\" in workbook.sheetnames:\n",
    "            del workbook[\"Sheet\"]\n",
    "        workbook.save(filename=self.filename)\n",
    "    def write(self, sheet, key, index, value):\n",
    "        workbook = load_workbook(filename=self.filename)\n",
    "        ws = workbook[f\"{sheet}\"]\n",
    "        ws[f\"{key}{index}\"] = value\n",
    "        workbook.save(filename=self.filename)"
   ]
  },
  {
   "cell_type": "code",
   "execution_count": 5,
   "metadata": {},
   "outputs": [],
   "source": [
    "book1 = __excel(\"Test\")\n",
    "book1.add_sheets(\"Sheet1\",\"Sheet2\",\"Sheet3\")"
   ]
  },
  {
   "cell_type": "code",
   "execution_count": null,
   "metadata": {},
   "outputs": [],
   "source": [
    "IP_List = [\"192.168.0.1\",\"192.168.0.2\",\"192.168.0.3\",]\n",
    "Hostname_List = [\"Hostname1\",\"Hostname2\",\"Hostname3\",]\n",
    "Interface_List = [\"Vlan1\",\"Vlan2\",\"Vlan3\",]\n",
    "Domain_List = [\"Test1.com\",\"Test2.com\",\"Test3.com\",]"
   ]
  },
  {
   "cell_type": "code",
   "execution_count": null,
   "metadata": {},
   "outputs": [],
   "source": [
    "i = 1\n",
    "for a,b,c,d in zip(Interface_List, IP_List, Hostname_List, Domain_List):\n",
    "    book1.write(\"Sheet1\",\"A\",f\"{i}\",f\"{a}\")\n",
    "    book1.write(\"Sheet1\",\"B\",f\"{i}\",f\"{b}\")\n",
    "    book1.write(\"Sheet1\",\"C\",f\"{i}\",f\"{c}\")\n",
    "    book1.write(\"Sheet1\",\"D\",f\"{i}\",f\"{d}\")\n",
    "    i += 1"
   ]
  },
  {
   "cell_type": "code",
   "execution_count": 6,
   "metadata": {},
   "outputs": [],
   "source": [
    "def prep_workbook():\n",
    "    book1 = __excel(\"Test\")\n",
    "    book1.add_sheets(\"Sheet1\",\"Sheet2\",\"Sheet3\")\n",
    "    book1.write(\"Sheet1\",\"A\",\"1\",\"Interface\",)\n",
    "    book1.write(\"Sheet1\",\"B\",\"1\",\"IP Address\",)\n",
    "    book1.write(\"Sheet1\",\"C\",\"1\",\"Hostname\",)\n",
    "    book1.write(\"Sheet1\",\"D\",\"1\",\"Domain Name\",)"
   ]
  },
  {
   "cell_type": "code",
   "execution_count": 7,
   "metadata": {},
   "outputs": [],
   "source": [
    "prep_workbook()"
   ]
  },
  {
   "cell_type": "code",
   "execution_count": null,
   "metadata": {},
   "outputs": [],
   "source": [
    "output_log = open(\"Output Log.txt\", \"a\")\n",
    "output_log.write(\"This is a message\\n\")\n",
    "output_log.close()"
   ]
  },
  {
   "cell_type": "code",
   "execution_count": 35,
   "metadata": {},
   "outputs": [],
   "source": [
    "from datetime import datetime"
   ]
  },
  {
   "cell_type": "code",
   "execution_count": 40,
   "metadata": {},
   "outputs": [],
   "source": [
    "def output_log(message):\n",
    "    dateTimeObj = datetime.now()\n",
    "    output_log = open(\"Output Log.txt\", \"a\")\n",
    "    output_log.write(f\"{dateTimeObj} - {message}\")\n",
    "    output_log.write(\"\\n\")\n",
    "    output_log.close()"
   ]
  },
  {
   "cell_type": "code",
   "execution_count": 43,
   "metadata": {},
   "outputs": [],
   "source": [
    "output_log(\"This is a message\")"
   ]
  },
  {
   "cell_type": "code",
   "execution_count": 11,
   "metadata": {},
   "outputs": [],
   "source": [
    "list = ((\"VLAN1\",\"192.168.0.1\",\"host1\",\"domain.com\"),(\"VLAN2\",\"192.168.0.2\",\"host2\",\"domain.com\"),(\"VLAN3\",\"192.168.0.3\",\"host3\",\"domain.com\"),(\"VLAN4\",\"192.168.0.4\",\"host4\",\"domain.com\"))"
   ]
  },
  {
   "cell_type": "code",
   "execution_count": 12,
   "metadata": {},
   "outputs": [
    {
     "output_type": "execute_result",
     "data": {
      "text/plain": [
       "(('VLAN1', '192.168.0.1', 'host1', 'domain.com'),\n",
       " ('VLAN2', '192.168.0.2', 'host2', 'domain.com'),\n",
       " ('VLAN3', '192.168.0.3', 'host3', 'domain.com'),\n",
       " ('VLAN4', '192.168.0.4', 'host4', 'domain.com'))"
      ]
     },
     "metadata": {},
     "execution_count": 12
    }
   ],
   "source": [
    "list"
   ]
  },
  {
   "cell_type": "code",
   "execution_count": 17,
   "metadata": {},
   "outputs": [],
   "source": [
    "a,b,c,d = list"
   ]
  },
  {
   "cell_type": "code",
   "execution_count": 33,
   "metadata": {},
   "outputs": [],
   "source": [
    "i = 2\n",
    "for a,b,c,d in list:\n",
    "    book1.write(\"Sheet1\",\"A\",f\"{i}\",f\"{a}\",)\n",
    "    book1.write(\"Sheet1\",\"B\",f\"{i}\",f\"{b}\",)\n",
    "    book1.write(\"Sheet1\",\"C\",f\"{i}\",f\"{c}\",)\n",
    "    book1.write(\"Sheet1\",\"D\",f\"{i}\",f\"{d}\",)\n",
    "    i += 1"
   ]
  },
  {
   "cell_type": "code",
   "execution_count": null,
   "metadata": {},
   "outputs": [],
   "source": []
  }
 ]
}