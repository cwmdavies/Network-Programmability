{
 "metadata": {
  "language_info": {
   "codemirror_mode": {
    "name": "ipython",
    "version": 3
   },
   "file_extension": ".py",
   "mimetype": "text/x-python",
   "name": "python",
   "nbconvert_exporter": "python",
   "pygments_lexer": "ipython3",
   "version": "3.8.5-final"
  },
  "orig_nbformat": 2,
  "kernelspec": {
   "name": "python385jvsc74a57bd01f67f1e9030f37d091e130808815db2d6d54d961e448b45bb26cc54e8d4cf9c5",
   "display_name": "Python 3.8.5 32-bit"
  }
 },
 "nbformat": 4,
 "nbformat_minor": 2,
 "cells": [
  {
   "cell_type": "code",
   "execution_count": null,
   "metadata": {},
   "outputs": [],
   "source": [
    "from openpyxl import load_workbook, Workbook"
   ]
  },
  {
   "cell_type": "code",
   "execution_count": null,
   "metadata": {},
   "outputs": [],
   "source": [
    "class __excel:\n",
    "    def __init__(self, name):\n",
    "        self.i = 0\n",
    "        self.name = name\n",
    "        self.filename = self.name + \".xlsx\"\n",
    "        workbook = Workbook()\n",
    "        workbook.save(filename=self.filename)\n",
    "    def get_sheets(self):\n",
    "        workbook = load_workbook(filename=self.filename)\n",
    "        return workbook.sheetnames\n",
    "    def add_columns(self, *col_name):\n",
    "        workbook = load_workbook(filename=self.filename)\n",
    "        for value in col_name:\n",
    "            if value not in workbook.sheetnames:\n",
    "                col_name = workbook.create_sheet(value, self.i)\n",
    "                self.i += 1\n",
    "            else:\n",
    "                print(f\"{value} already exists in {self.name}. Ignoring column creation!\")\n",
    "        if \"Sheet\" in workbook.sheetnames:\n",
    "            del workbook[\"Sheet\"]\n",
    "        workbook.save(filename=self.filename)\n",
    "    def write(self, sheet, key, index, value):\n",
    "        workbook = load_workbook(filename=self.filename)\n",
    "        ws = workbook[f\"{sheet}\"]\n",
    "        ws[f\"{key}{index}\"] = value\n",
    "        workbook.save(filename=self.filename)       "
   ]
  },
  {
   "cell_type": "code",
   "execution_count": null,
   "metadata": {},
   "outputs": [],
   "source": [
    "book1 = __excel(\"Test\")"
   ]
  },
  {
   "cell_type": "code",
   "execution_count": null,
   "metadata": {},
   "outputs": [],
   "source": [
    "book1.add_columns(\"Sheet1\",\"Sheet2\",\"Sheet3\")"
   ]
  },
  {
   "cell_type": "code",
   "execution_count": null,
   "metadata": {},
   "outputs": [],
   "source": [
    "book1.get_sheets()"
   ]
  },
  {
   "cell_type": "code",
   "execution_count": null,
   "metadata": {},
   "outputs": [],
   "source": [
    "info = [\"192.168.0.1\",\"192.168.0.2\",\"192.168.0.3\",\"192.168.0.4\",\"192.168.0.5\",\"192.168.0.6\"]"
   ]
  },
  {
   "cell_type": "code",
   "execution_count": null,
   "metadata": {},
   "outputs": [],
   "source": [
    "index = 1\n",
    "for value in info:\n",
    "    print(f\"Adding {value} to Sheet at index A{index}\")\n",
    "    book1.write(\"Sheet1\", \"A\" ,index , value)\n",
    "    print(index)\n",
    "    index += 1"
   ]
  },
  {
   "cell_type": "code",
   "execution_count": null,
   "metadata": {},
   "outputs": [],
   "source": []
  }
 ]
}