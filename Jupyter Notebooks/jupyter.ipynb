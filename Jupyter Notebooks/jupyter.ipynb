{
 "metadata": {
  "language_info": {
   "codemirror_mode": {
    "name": "ipython",
    "version": 3
   },
   "file_extension": ".py",
   "mimetype": "text/x-python",
   "name": "python",
   "nbconvert_exporter": "python",
   "pygments_lexer": "ipython3",
   "version": "3.8.5"
  },
  "orig_nbformat": 2,
  "kernelspec": {
   "name": "python385jvsc74a57bd01f67f1e9030f37d091e130808815db2d6d54d961e448b45bb26cc54e8d4cf9c5",
   "display_name": "Python 3.8.5 32-bit"
  },
  "metadata": {
   "interpreter": {
    "hash": "ac59ebe37160ed0dfa835113d9b8498d9f09ceb179beaac4002f036b9467c963"
   }
  }
 },
 "nbformat": 4,
 "nbformat_minor": 2,
 "cells": [
  {
   "cell_type": "code",
   "execution_count": 17,
   "metadata": {},
   "outputs": [],
   "source": [
    "import re"
   ]
  },
  {
   "cell_type": "code",
   "execution_count": 170,
   "metadata": {},
   "outputs": [],
   "source": [
    "cdp = open(\"cdp.txt\", \"r\")\n",
    "for line in cdp:\n",
    "    if(re.search(\"Device ID:\",line)):\n",
    "        data=re.split(\"Device ID:\",line)\n",
    "        DevID = data[1].strip(\"\\n\")\n",
    "    elif(re.search(\"IP address:\",line)):\n",
    "        data=re.split(\"IP address:\",line)\n",
    "        IPAdd = data[1].strip(\"\\n\")\n",
    "    elif(re.search(\"Platform:\",line)):\n",
    "        data=re.split(\"Platform:\",line)\n",
    "        Platform = data[1].strip(\"\\n\")\n",
    "        Platform = Platform.split(\",\")[0]\n",
    "    elif(re.search(\"Native VLAN:\",line)):\n",
    "        data=re.split(\"Native VLAN:\",line)\n",
    "        Native = data[1].strip(\"\\n\")\n",
    "    elif(re.search(\"Interface:\",line)):\n",
    "        data=re.split(\"Interface:\",line)\n",
    "        LocalInt = data[1].split(\",\")\n",
    "        LocalInt = LocalInt[0].strip(\"\\n\")\n",
    "        RemoteInt = data[1].split(\":\")\n",
    "        RemoteInt = RemoteInt[1].strip(\"\\n\")"
   ]
  }
 ]
}