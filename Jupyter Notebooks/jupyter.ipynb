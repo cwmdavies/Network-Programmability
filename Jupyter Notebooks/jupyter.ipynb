{
 "cells": [
  {
   "cell_type": "code",
   "execution_count": 1,
   "metadata": {},
   "outputs": [],
   "source": [
    "import logging\n",
    "import sys\n",
    "\n",
    "# Log file location\n",
    "logfile = 'debug.log'\n",
    "# Define the log format\n",
    "log_format = (\n",
    "    '[%(asctime)s] %(levelname)-8s %(name)-12s %(message)s')\n",
    "\n",
    "# Define basic configuration\n",
    "logging.basicConfig(\n",
    "    # Define logging level\n",
    "    level=logging.DEBUG,\n",
    "    # Declare the object we created to format the log messages\n",
    "    format=log_format,\n",
    "    # Declare handlers\n",
    "    handlers=[\n",
    "        logging.FileHandler(logfile),\n",
    "        logging.StreamHandler(sys.stdout),\n",
    "    ]\n",
    ")\n",
    "\n",
    "# Define your own logger name\n",
    "log = logging.getLogger(__name__)"
   ]
  },
  {
   "cell_type": "code",
   "execution_count": 2,
   "metadata": {},
   "outputs": [
    {
     "name": "stdout",
     "output_type": "stream",
     "text": [
      "[2021-06-10 11:49:53,267] DEBUG    __main__     This is a debug message\n",
      "[2021-06-10 11:49:53,273] INFO     __main__     This is an info message\n",
      "[2021-06-10 11:49:53,276] WARNING  __main__     This is a warning message\n",
      "[2021-06-10 11:49:53,278] ERROR    __main__     This is an error message\n",
      "[2021-06-10 11:49:53,279] CRITICAL __main__     This is a critical message\n"
     ]
    }
   ],
   "source": [
    "log.debug('This is a debug message')\n",
    "log.info('This is an info message')\n",
    "log.warning('This is a warning message')\n",
    "log.error('This is an error message')\n",
    "log.critical('This is a critical message')"
   ]
  }
 ],
 "metadata": {
  "kernelspec": {
   "display_name": "Python 3",
   "language": "python",
   "name": "python3"
  },
  "language_info": {
   "codemirror_mode": {
    "name": "ipython",
    "version": 3
   },
   "file_extension": ".py",
   "mimetype": "text/x-python",
   "name": "python",
   "nbconvert_exporter": "python",
   "pygments_lexer": "ipython3",
   "version": "3.9.5"
  },
  "metadata": {
   "interpreter": {
    "hash": "ac59ebe37160ed0dfa835113d9b8498d9f09ceb179beaac4002f036b9467c963"
   }
  }
 },
 "nbformat": 4,
 "nbformat_minor": 4
}
