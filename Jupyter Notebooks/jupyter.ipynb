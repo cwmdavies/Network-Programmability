{
 "metadata": {
  "language_info": {
   "codemirror_mode": {
    "name": "ipython",
    "version": 3
   },
   "file_extension": ".py",
   "mimetype": "text/x-python",
   "name": "python",
   "nbconvert_exporter": "python",
   "pygments_lexer": "ipython3",
   "version": "3.9.5"
  },
  "orig_nbformat": 2,
  "kernelspec": {
   "name": "python395jvsc74a57bd0ac59ebe37160ed0dfa835113d9b8498d9f09ceb179beaac4002f036b9467c963",
   "display_name": "Python 3.9.5 64-bit"
  },
  "metadata": {
   "interpreter": {
    "hash": "ac59ebe37160ed0dfa835113d9b8498d9f09ceb179beaac4002f036b9467c963"
   }
  }
 },
 "nbformat": 4,
 "nbformat_minor": 2,
 "cells": [
  {
   "cell_type": "code",
   "execution_count": 31,
   "metadata": {},
   "outputs": [],
   "source": [
    "import paramiko"
   ]
  },
  {
   "cell_type": "code",
   "execution_count": 32,
   "metadata": {},
   "outputs": [],
   "source": [
    "jumpserver_private_addr = '10.251.6.31'   # The internal IP Address for the Jump server\n",
    "local_IP_addr = '127.0.0.1' # IP Address of the machine you are connecting from\n",
    "\n",
    "username = \"adm.davies\"\n",
    "password = \"!Lepsodizle7!\""
   ]
  },
  {
   "cell_type": "code",
   "execution_count": 33,
   "metadata": {},
   "outputs": [],
   "source": [
    "def open_session(IP):\n",
    "    print(f\"Trying to establish a connection to: {IP}\")\n",
    "    jumpbox=paramiko.SSHClient()\n",
    "    jumpbox.set_missing_host_key_policy(paramiko.AutoAddPolicy())\n",
    "    jumpbox.connect(jumpserver_private_addr, username=username, password=password )\n",
    "    jumpbox_transport = jumpbox.get_transport()\n",
    "    src_addr = (local_IP_addr, 22)\n",
    "    dest_addr = (IP, 22)\n",
    "    jumpbox_channel = jumpbox_transport.open_channel(\"direct-tcpip\", dest_addr, src_addr)\n",
    "    target=paramiko.SSHClient()\n",
    "    target.set_missing_host_key_policy(paramiko.AutoAddPolicy())\n",
    "    target.connect(dest_addr, username=username, password=password, sock=jumpbox_channel)\n",
    "    print(f\"Connection to IP: {IP} established\")\n",
    "    return target, jumpbox, True"
   ]
  },
  {
   "cell_type": "code",
   "execution_count": 29,
   "metadata": {},
   "outputs": [],
   "source": [
    "def interface_descr(IP, int_name):\n",
    "    command = f\"show run interface {int_name} | inc description\"\n",
    "    ssh, jumpbox, connection = open_session(IP)\n",
    "    stdin, stdout, stderr = ssh.exec_command(command)\n",
    "    stdout = stdout.read()\n",
    "    stdout = stdout.decode(\"utf-8\")\n",
    "    int_description = stdout\n",
    "    ssh.close()\n",
    "    jumpbox.close()\n",
    "    print(int_description)"
   ]
  },
  {
   "cell_type": "code",
   "execution_count": 30,
   "metadata": {},
   "outputs": [
    {
     "output_type": "stream",
     "name": "stdout",
     "text": [
      "Trying to establish a connection to: 10.112.255.1\n",
      "Connection to IP: 10.112.255.1 established\n",
      " description ***Etherchannel to CISFS ISCi/NetApp CR1***\n",
      "\n"
     ]
    }
   ],
   "source": [
    "interface_descr(\"10.112.255.1\", \"Po35\")"
   ]
  },
  {
   "cell_type": "code",
   "execution_count": 20,
   "metadata": {},
   "outputs": [
    {
     "output_type": "stream",
     "name": "stdout",
     "text": [
      "Open Session Error: An unknown error occured for IP: 10.112.255.1!\n"
     ]
    },
    {
     "output_type": "execute_result",
     "data": {
      "text/plain": [
       "(None, None, False)"
      ]
     },
     "metadata": {},
     "execution_count": 20
    }
   ],
   "source": [
    "open_session(\"10.112.255.1\")"
   ]
  }
 ]
}