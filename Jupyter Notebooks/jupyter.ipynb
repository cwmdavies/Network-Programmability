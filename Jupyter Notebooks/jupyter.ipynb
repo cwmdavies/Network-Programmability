{
 "metadata": {
  "language_info": {
   "codemirror_mode": {
    "name": "ipython",
    "version": 3
   },
   "file_extension": ".py",
   "mimetype": "text/x-python",
   "name": "python",
   "nbconvert_exporter": "python",
   "pygments_lexer": "ipython3",
   "version": "3.8.5"
  },
  "orig_nbformat": 2,
  "kernelspec": {
   "name": "python385jvsc74a57bd01f67f1e9030f37d091e130808815db2d6d54d961e448b45bb26cc54e8d4cf9c5",
   "display_name": "Python 3.8.5 32-bit"
  },
  "metadata": {
   "interpreter": {
    "hash": "ac59ebe37160ed0dfa835113d9b8498d9f09ceb179beaac4002f036b9467c963"
   }
  }
 },
 "nbformat": 4,
 "nbformat_minor": 2,
 "cells": [
  {
   "cell_type": "code",
   "execution_count": 1,
   "metadata": {},
   "outputs": [],
   "source": [
    "import paramiko\n",
    "from getpass import getpass\n",
    "import re\n",
    "\n",
    "CDP_Info = {}\n",
    "\n",
    "local_IP_addr = '10.251.6.31'   # IP Address of the machine you are connecting from\n",
    "jumpserver_private_addr = '10.2.151.86' # The internal IP Address for the Jump server\n",
    "target_addr = '10.145.61.10' # The IP Address You are connecting to\n",
    "\n",
    "username = input(\"Enter your username: \")\n",
    "password = getpass(prompt=\"Enter your password\")"
   ]
  },
  {
   "cell_type": "code",
   "execution_count": 2,
   "metadata": {},
   "outputs": [],
   "source": [
    "def open_session(IP):\n",
    "  jumpbox=paramiko.SSHClient()\n",
    "  jumpbox.set_missing_host_key_policy(paramiko.AutoAddPolicy())\n",
    "  jumpbox.connect(local_IP_addr, username=username, password=password )\n",
    "  jumpbox_transport = jumpbox.get_transport()\n",
    "  src_addr = (jumpserver_private_addr, 22)\n",
    "  dest_addr = (target_addr, 22)\n",
    "  jumpbox_channel = jumpbox_transport.open_channel(\"direct-tcpip\", dest_addr, src_addr)\n",
    "  target=paramiko.SSHClient()\n",
    "  target.set_missing_host_key_policy(paramiko.AutoAddPolicy())\n",
    "  target.connect(IP, username=username, password=password, sock=jumpbox_channel)\n",
    "  return target, jumpbox\n",
    "\n",
    "def main():\n",
    "  target, jumpbox = open_session(target_addr)\n",
    "  stdin, stdout, stderr = target.exec_command(\"sh cdp neighbors Gig 1/0/50 detail\")\n",
    "  stdout = stdout.read()\n",
    "  stdout = stdout.decode(\"utf-8\")\n",
    "  Hostname = r\"(?=[\\n\\r].*Device ID:[\\s]*([^\\n\\r]*))\"\n",
    "  Platform = r\"(?=[\\n\\r].*Platform:[\\s]*([^\\n\\r]*))\"\n",
    "  Interface = r\"(?=[\\n\\r].*Interface:[\\s]*([^\\n\\r]*))\"\n",
    "  IPAddr = r\"(?=[\\n\\r].*IP address:[\\s]*([^\\n\\r]*))\"\n",
    "  RemoteInt = r\"(?=[\\n\\r].*Port ID.*: [\\s]*([^\\n\\r]*))\"\n",
    "  Native = r\"(?=[\\n\\r].*Native VLAN:[\\s]*([^\\n\\r]*))\"\n",
    "\n",
    "  Hostname_match = re.finditer(Hostname, stdout, re.MULTILINE)\n",
    "  Platform_match = re.finditer(Platform, stdout, re.MULTILINE)\n",
    "  Interface_match = re.finditer(Interface, stdout, re.MULTILINE)\n",
    "  IPAddr_match = re.finditer(IPAddr, stdout, re.MULTILINE)\n",
    "  RemoteInt_match = re.finditer(RemoteInt, stdout, re.MULTILINE)\n",
    "  Native_match = re.finditer(Native, stdout, re.MULTILINE)\n",
    "\n",
    "  for line in Hostname_match:\n",
    "      Hostname = line[1].split()\n",
    "      Hostname = Hostname[0]\n",
    "      CDP_Info[\"Hostname\"] = Hostname\n",
    "  for line in Platform_match:\n",
    "      Platform = line[1].split()\n",
    "      Platform = Platform[1].strip(\",\")\n",
    "      CDP_Info[\"Platform\"] = Platform\n",
    "  for line in Interface_match:\n",
    "      Interface = line[1].split()\n",
    "      Interface = Interface[0].strip(\",\")\n",
    "      CDP_Info[\"Local Interface\"] = Interface\n",
    "  for line in IPAddr_match:\n",
    "      IPAddr = line[1].split()\n",
    "      IPAddr = IPAddr[0]\n",
    "      CDP_Info[\"IP Address\"] = IPAddr\n",
    "  for line in RemoteInt_match:\n",
    "      RemoteInt = line[1].split()\n",
    "      RemoteInt = RemoteInt[0]\n",
    "      CDP_Info[\"Remote Interface\"] = RemoteInt\n",
    "  for line in Native_match:\n",
    "      Native = line[1].split()\n",
    "      Native = Native[0]\n",
    "      CDP_Info[\"Native VLAN\"] = Native\n",
    "  \n",
    "  target.close()\n",
    "  jumpbox.close()"
   ]
  },
  {
   "cell_type": "code",
   "execution_count": 3,
   "metadata": {},
   "outputs": [],
   "source": [
    "main()"
   ]
  },
  {
   "cell_type": "code",
   "execution_count": 4,
   "metadata": {},
   "outputs": [
    {
     "output_type": "execute_result",
     "data": {
      "text/plain": [
       "{'Hostname': 'GB-CAY2-001CSW001.cns.muellergroup.com',\n",
       " 'Platform': 'WS-C3850-24T',\n",
       " 'Local Interface': 'GigabitEthernet1/0/50',\n",
       " 'IP Address': '10.145.61.1',\n",
       " 'Remote Interface': 'GigabitEthernet1/0/24',\n",
       " 'Native VLAN': '999'}"
      ]
     },
     "metadata": {},
     "execution_count": 4
    }
   ],
   "source": [
    "CDP_Info"
   ]
  }
 ]
}