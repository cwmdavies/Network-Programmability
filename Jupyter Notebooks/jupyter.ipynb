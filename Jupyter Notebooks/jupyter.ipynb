{
 "metadata": {
  "language_info": {
   "codemirror_mode": {
    "name": "ipython",
    "version": 3
   },
   "file_extension": ".py",
   "mimetype": "text/x-python",
   "name": "python",
   "nbconvert_exporter": "python",
   "pygments_lexer": "ipython3",
   "version": "3.8.5-final"
  },
  "orig_nbformat": 2,
  "kernelspec": {
   "name": "python385jvsc74a57bd01f67f1e9030f37d091e130808815db2d6d54d961e448b45bb26cc54e8d4cf9c5",
   "display_name": "Python 3.8.5 32-bit"
  }
 },
 "nbformat": 4,
 "nbformat_minor": 2,
 "cells": [
  {
   "cell_type": "code",
   "execution_count": 39,
   "metadata": {},
   "outputs": [],
   "source": [
    "from openpyxl import load_workbook, Workbook"
   ]
  },
  {
   "cell_type": "code",
   "execution_count": 57,
   "metadata": {},
   "outputs": [],
   "source": [
    "class _excel:\n",
    "    def __init__(self, name):\n",
    "        self.name = name\n",
    "        filename = self.name + \".xlsx\"\n",
    "        workbook = Workbook()\n",
    "        workbook.save(filename=filename)\n",
    "    def get_sheets(self):\n",
    "        workbook = load_workbook(filename=self.name + \".xlsx\")\n",
    "        return workbook.sheetnames\n",
    "    def add_columns(self, *col_name):\n",
    "        i = 0\n",
    "        workbook = load_workbook(filename=self.name + \".xlsx\")\n",
    "        for value in col_name:\n",
    "            col_name = workbook.create_sheet(value, i)\n",
    "            i += 1\n",
    "        \n",
    "        workbook.save(filename=self.name + \".xlsx\")"
   ]
  },
  {
   "cell_type": "code",
   "execution_count": 58,
   "metadata": {},
   "outputs": [],
   "source": [
    "book1 = _excel(\"Test1\")"
   ]
  },
  {
   "cell_type": "code",
   "execution_count": null,
   "metadata": {},
   "outputs": [],
   "source": []
  }
 ]
}