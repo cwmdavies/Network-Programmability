{
 "metadata": {
  "language_info": {
   "codemirror_mode": {
    "name": "ipython",
    "version": 3
   },
   "file_extension": ".py",
   "mimetype": "text/x-python",
   "name": "python",
   "nbconvert_exporter": "python",
   "pygments_lexer": "ipython3",
   "version": "3.8.5"
  },
  "orig_nbformat": 2,
  "kernelspec": {
   "name": "python385jvsc74a57bd01f67f1e9030f37d091e130808815db2d6d54d961e448b45bb26cc54e8d4cf9c5",
   "display_name": "Python 3.8.5 32-bit"
  },
  "metadata": {
   "interpreter": {
    "hash": "ac59ebe37160ed0dfa835113d9b8498d9f09ceb179beaac4002f036b9467c963"
   }
  }
 },
 "nbformat": 4,
 "nbformat_minor": 2,
 "cells": [
  {
   "cell_type": "code",
   "execution_count": 6,
   "metadata": {},
   "outputs": [],
   "source": [
    "import tkinter as tk\n",
    "from tkinter import ttk\n",
    "from tkinter.messagebox import showinfo\n",
    "\n",
    "# root window\n",
    "root = tk.Tk()\n",
    "root.eval('tk::PlaceWindow . center')\n",
    "root.geometry(\"300x250\")\n",
    "root.resizable(False, False)\n",
    "root.title('Site Details')\n",
    "\n",
    "# store email address and password\n",
    "Username = tk.StringVar()\n",
    "password = tk.StringVar()\n",
    "IP_Address = tk.StringVar()\n",
    "Site_code = tk.StringVar()\n",
    "\n",
    "# Sign in frame\n",
    "signin = ttk.Frame(root)\n",
    "signin.pack(padx=10, pady=10, fill='x', expand=True)\n",
    "\n",
    "\n",
    "# Username\n",
    "Username_label = ttk.Label(signin, text=\"Username:\")\n",
    "Username_label.pack(fill='x', expand=True)\n",
    "\n",
    "Username_entry = ttk.Entry(signin, textvariable=Username)\n",
    "Username_entry.pack(fill='x', expand=True)\n",
    "Username_entry.focus()\n",
    "\n",
    "# password\n",
    "password_label = ttk.Label(signin, text=\"Password:\" )\n",
    "password_label.pack(fill='x', expand=True)\n",
    "\n",
    "password_entry = ttk.Entry(signin, textvariable=password, show=\"*\")\n",
    "password_entry.pack(fill='x', expand=True)\n",
    "\n",
    "# IP Address\n",
    "IP_Address_label = ttk.Label(signin, text=\"IP Address:\")\n",
    "IP_Address_label.pack(fill='x', expand=True)\n",
    "\n",
    "IP_Address_entry = ttk.Entry(signin, textvariable=IP_Address)\n",
    "IP_Address_entry.pack(fill='x', expand=True)\n",
    "\n",
    "# Site Code\n",
    "Site_code_label = ttk.Label(signin, text=\"Site code:\")\n",
    "Site_code_label.pack(fill='x', expand=True)\n",
    "\n",
    "Site_code_entry = ttk.Entry(signin, textvariable=Site_code)\n",
    "Site_code_entry.pack(fill='x', expand=True)\n",
    "Site_code_entry.focus()\n",
    "\n",
    "# login button\n",
    "login_button = ttk.Button(signin, text=\"Login\", command=root.destroy)\n",
    "login_button.pack(fill='x', expand=True, pady=10)\n",
    "\n",
    "root.attributes('-topmost', True)\n",
    "root.mainloop()"
   ]
  },
  {
   "cell_type": "code",
   "execution_count": 12,
   "metadata": {},
   "outputs": [],
   "source": [
    "email_var = email.get()\n",
    "pass_var = password.get()\n",
    "IP_Address = IP_Address.get()\n",
    "Site_code = Site_code.get()"
   ]
  },
  {
   "cell_type": "code",
   "execution_count": 14,
   "metadata": {},
   "outputs": [
    {
     "output_type": "execute_result",
     "data": {
      "text/plain": [
       "''"
      ]
     },
     "metadata": {},
     "execution_count": 14
    }
   ],
   "source": [
    "Site_code"
   ]
  }
 ]
}