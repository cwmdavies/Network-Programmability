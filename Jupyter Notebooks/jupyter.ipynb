{
 "cells": [
  {
   "cell_type": "code",
   "execution_count": 1,
   "metadata": {},
   "outputs": [],
   "source": [
    "import paramiko\n",
    "import sys\n",
    "import textfsm\n",
    "from tabulate import tabulate\n",
    "import datetime as time"
   ]
  },
  {
   "cell_type": "code",
   "execution_count": 2,
   "metadata": {},
   "outputs": [],
   "source": [
    "jump_server_address = '10.251.6.31'   # The internal ip Address for the Jump server\n",
    "local_IP_address = '127.0.0.1'  # ip Address of the machine you are connecting from\n",
    "username = \"\"\n",
    "password = \"\"\n",
    "debug = 1"
   ]
  },
  {
   "cell_type": "code",
   "execution_count": 3,
   "metadata": {},
   "outputs": [],
   "source": [
    "def error_log(message,):\n",
    "    date_time_object = time.datetime.now()\n",
    "    datetime = date_time_object.strftime(\"%d/%m/%Y %H:%M:%S\")\n",
    "    error_file = open(\"Error Log.txt\", \"a\")\n",
    "    error_file.write(f\"{datetime} - {message}\")\n",
    "    error_file.write(\"\\n\")\n",
    "    error_file.close()\n",
    "    if debug == 1:\n",
    "        print(message)\n",
    "\n",
    "\n",
    "def output_log(message,):\n",
    "    date_time_object = time.datetime.now()\n",
    "    datetime = date_time_object.strftime(\"%d/%m/%Y %H:%M:%S\")\n",
    "    output_file = open(\"Output Log.txt\", \"a\")\n",
    "    output_file.write(f\"{datetime} - {message}\")\n",
    "    output_file.write(\"\\n\")\n",
    "    output_file.close()\n",
    "    if debug == 1:\n",
    "        print(message)\n",
    "\n",
    "\n",
    "def open_session(ip):\n",
    "    try:\n",
    "        output_log(f\"Trying to establish a connection to: {ip}\")\n",
    "        jump_box = paramiko.SSHClient()\n",
    "        jump_box.set_missing_host_key_policy(paramiko.AutoAddPolicy())\n",
    "        jump_box.connect(jump_server_address, username=username, password=password)\n",
    "        jump_box_transport = jump_box.get_transport()\n",
    "        src_address = (local_IP_address, 22)\n",
    "        destination_address = (ip, 22)\n",
    "        jump_box_channel = jump_box_transport.open_channel(\"direct-tcpip\", destination_address, src_address)\n",
    "        target = paramiko.SSHClient()\n",
    "        target.set_missing_host_key_policy(paramiko.AutoAddPolicy())\n",
    "        target.connect(destination_address, username=username, password=password, sock=jump_box_channel)\n",
    "        output_log(f\"Connection to ip: {ip} established\")\n",
    "        return target, jump_box, True\n",
    "    except paramiko.ssh_exception.AuthenticationException:\n",
    "        error_log(f\"Authentication to ip: {ip} failed! Please check your ip, username and password.\")\n",
    "        return None, None, False\n",
    "    except paramiko.ssh_exception.NoValidConnectionsError:\n",
    "        error_log(f\"Unable to connect to ip: {ip}!\")\n",
    "        return None, None, False\n",
    "    except (ConnectionError, TimeoutError):\n",
    "        error_log(f\"Timeout error occurred for ip: {ip}!\")\n",
    "        return None, None, False\n",
    "    except Exception as err:\n",
    "        error_log(f\"Open Session Error: An unknown error occurred for ip: {ip}!\")\n",
    "        error_log(f\"\\t Error: {err}\")\n",
    "        return None, None, False"
   ]
  },
  {
   "cell_type": "code",
   "execution_count": 4,
   "metadata": {},
   "outputs": [
    {
     "output_type": "stream",
     "name": "stdout",
     "text": [
      "Trying to establish a connection to: 10.145.61.10\n",
      "Connection to ip: 10.145.61.10 established\n"
     ]
    }
   ],
   "source": [
    "command = \"sh cdp neighbors detail\"\n",
    "ssh, jumpbox, connection = open_session(\"10.145.61.10\")\n",
    "stdin, stdout, stderr = ssh.exec_command(command)\n",
    "stdout = stdout.read()\n",
    "stdout = stdout.decode(\"utf-8\")\n",
    "ssh.close()\n",
    "jumpbox.close()"
   ]
  },
  {
   "cell_type": "code",
   "execution_count": 5,
   "metadata": {},
   "outputs": [],
   "source": [
    "template = \"cdp_detail_config.txt\""
   ]
  },
  {
   "cell_type": "code",
   "execution_count": 14,
   "metadata": {},
   "outputs": [
    {
     "output_type": "stream",
     "name": "stdout",
     "text": [
      "LOCAL_HOST    DEST_HOST                               MGMNT_IP     PLATFORM           LOCAL_PORT             REMOTE_PORT               IOS_VERSION\n------------  --------------------------------------  -----------  -----------------  ---------------------  ------------------------  -------------\n              GB-CAY2-001CSW001.cns.muellergroup.com  10.145.61.1  cisco C9300-48UXM  GigabitEthernet1/0/49  TenGigabitEthernet1/0/48  16.12.4\n"
     ]
    }
   ],
   "source": [
    "with open(template) as f:\n",
    "    re_table = textfsm.TextFSM(f)\n",
    "    header = re_table.header\n",
    "    result = re_table.ParseText(stdout)\n",
    "    print(tabulate(result, headers=header))"
   ]
  },
  {
   "cell_type": "code",
   "execution_count": 13,
   "metadata": {},
   "outputs": [
    {
     "output_type": "execute_result",
     "data": {
      "text/plain": [
       "[['',\n",
       "  'GB-CAY2-001CSW001.cns.muellergroup.com',\n",
       "  '10.145.61.1',\n",
       "  'cisco C9300-48UXM',\n",
       "  'GigabitEthernet1/0/49',\n",
       "  'TenGigabitEthernet1/0/48',\n",
       "  '16.12.4'],\n",
       " ['',\n",
       "  'GB-CAY2-001CSW001.cns.muellergroup.com',\n",
       "  '10.145.61.1',\n",
       "  'cisco C9300-48UXM',\n",
       "  'GigabitEthernet1/0/49',\n",
       "  'TenGigabitEthernet1/0/48',\n",
       "  '16.12.4'],\n",
       " ['',\n",
       "  'GB-CAY2-001CSW001.cns.muellergroup.com',\n",
       "  '10.145.61.1',\n",
       "  'cisco C9300-48UXM',\n",
       "  'GigabitEthernet1/0/49',\n",
       "  'TenGigabitEthernet1/0/48',\n",
       "  '16.12.4'],\n",
       " ['',\n",
       "  'GB-CAY2-001CSW001.cns.muellergroup.com',\n",
       "  '10.145.61.1',\n",
       "  'cisco C9300-48UXM',\n",
       "  'GigabitEthernet1/0/49',\n",
       "  'TenGigabitEthernet1/0/48',\n",
       "  '16.12.4']]"
      ]
     },
     "metadata": {},
     "execution_count": 13
    }
   ],
   "source": [
    "re_table.ParseText(stdout)"
   ]
  }
 ],
 "metadata": {
  "kernelspec": {
   "name": "python3",
   "display_name": "Python 3.9.5 64-bit"
  },
  "language_info": {
   "codemirror_mode": {
    "name": "ipython",
    "version": 3
   },
   "file_extension": ".py",
   "mimetype": "text/x-python",
   "name": "python",
   "nbconvert_exporter": "python",
   "pygments_lexer": "ipython3",
   "version": "3.9.5"
  },
  "metadata": {
   "interpreter": {
    "hash": "ac59ebe37160ed0dfa835113d9b8498d9f09ceb179beaac4002f036b9467c963"
   }
  },
  "interpreter": {
   "hash": "ac59ebe37160ed0dfa835113d9b8498d9f09ceb179beaac4002f036b9467c963"
  }
 },
 "nbformat": 4,
 "nbformat_minor": 4
}